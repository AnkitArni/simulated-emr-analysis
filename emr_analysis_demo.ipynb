{
 "cells": [
  {
   "cell_type": "markdown",
   "metadata": {},
   "source": [
    "# emr-analysis demo"
   ]
  },
  {
   "cell_type": "code",
   "execution_count": 1,
   "metadata": {},
   "outputs": [],
   "source": [
    "import os\n",
    "import emr_analysis as emr"
   ]
  },
  {
   "cell_type": "markdown",
   "metadata": {},
   "source": [
    "#### 1. Loading data"
   ]
  },
  {
   "cell_type": "code",
   "execution_count": 2,
   "metadata": {},
   "outputs": [],
   "source": [
    "load = emr.data.Loader()\n",
    "dfs = load('example')"
   ]
  },
  {
   "cell_type": "code",
   "execution_count": 3,
   "metadata": {},
   "outputs": [
    {
     "name": "stdout",
     "output_type": "stream",
     "text": [
      "\n",
      "Content type = diagnosis\n",
      "\t# rows = 372\n",
      "\tColumns = ['PatientID', 'AdmissionID', 'PrimaryDiagnosisCode', 'PrimaryDiagnosisDescription']\n",
      "\n",
      "Content type = admissions\n",
      "\t# rows = 372\n",
      "\tColumns = ['PatientID', 'AdmissionID', 'AdmissionStartDate', 'AdmissionEndDate']\n",
      "\n",
      "Content type = labs\n",
      "\t# rows = 111483\n",
      "\tColumns = ['PatientID', 'AdmissionID', 'LabName', 'LabValue', 'LabUnits', 'LabDateTime']\n",
      "\n",
      "Content type = patients\n",
      "\t# rows = 100\n",
      "\tColumns = ['PatientID', 'PatientGender', 'PatientDateOfBirth', 'PatientRace', 'PatientMaritalStatus', 'PatientLanguage', 'PatientPopulationPercentageBelowPoverty']\n"
     ]
    }
   ],
   "source": [
    "for content_type, data in dfs.items():\n",
    "    print(f'\\nContent type = {content_type}')\n",
    "    print(f'\\t# rows = {len(data.index)}')\n",
    "    print(f'\\tColumns = {list(data.columns)}')"
   ]
  },
  {
   "cell_type": "code",
   "execution_count": 4,
   "metadata": {},
   "outputs": [
    {
     "data": {
      "text/html": [
       "<div>\n",
       "<style scoped>\n",
       "    .dataframe tbody tr th:only-of-type {\n",
       "        vertical-align: middle;\n",
       "    }\n",
       "\n",
       "    .dataframe tbody tr th {\n",
       "        vertical-align: top;\n",
       "    }\n",
       "\n",
       "    .dataframe thead th {\n",
       "        text-align: right;\n",
       "    }\n",
       "</style>\n",
       "<table border=\"1\" class=\"dataframe\">\n",
       "  <thead>\n",
       "    <tr style=\"text-align: right;\">\n",
       "      <th></th>\n",
       "      <th>PatientID</th>\n",
       "      <th>AdmissionID</th>\n",
       "      <th>AdmissionStartDate</th>\n",
       "      <th>AdmissionEndDate</th>\n",
       "    </tr>\n",
       "  </thead>\n",
       "  <tbody>\n",
       "    <tr>\n",
       "      <th>0</th>\n",
       "      <td>7A025E77-7832-4F53-B9A7-09A3F98AC17E</td>\n",
       "      <td>7</td>\n",
       "      <td>2011-10-12 14:55:02.027</td>\n",
       "      <td>2011-10-22 01:16:07.557</td>\n",
       "    </tr>\n",
       "    <tr>\n",
       "      <th>1</th>\n",
       "      <td>DCE5AEB8-6DB9-4106-8AE4-02CCC5C23741</td>\n",
       "      <td>1</td>\n",
       "      <td>1993-02-11 18:57:04.003</td>\n",
       "      <td>1993-02-24 17:22:29.713</td>\n",
       "    </tr>\n",
       "    <tr>\n",
       "      <th>2</th>\n",
       "      <td>DCE5AEB8-6DB9-4106-8AE4-02CCC5C23741</td>\n",
       "      <td>2</td>\n",
       "      <td>2002-11-28 19:06:31.117</td>\n",
       "      <td>2002-12-04 19:14:40.797</td>\n",
       "    </tr>\n",
       "    <tr>\n",
       "      <th>3</th>\n",
       "      <td>DCE5AEB8-6DB9-4106-8AE4-02CCC5C23741</td>\n",
       "      <td>3</td>\n",
       "      <td>2011-07-19 18:42:45.287</td>\n",
       "      <td>2011-07-25 04:57:42.053</td>\n",
       "    </tr>\n",
       "    <tr>\n",
       "      <th>4</th>\n",
       "      <td>886B5885-1EE2-49F3-98D5-A2F02EB8A9D4</td>\n",
       "      <td>1</td>\n",
       "      <td>1994-12-03 22:20:46.077</td>\n",
       "      <td>1994-12-20 20:24:56.010</td>\n",
       "    </tr>\n",
       "  </tbody>\n",
       "</table>\n",
       "</div>"
      ],
      "text/plain": [
       "                              PatientID  AdmissionID       AdmissionStartDate  \\\n",
       "0  7A025E77-7832-4F53-B9A7-09A3F98AC17E            7  2011-10-12 14:55:02.027   \n",
       "1  DCE5AEB8-6DB9-4106-8AE4-02CCC5C23741            1  1993-02-11 18:57:04.003   \n",
       "2  DCE5AEB8-6DB9-4106-8AE4-02CCC5C23741            2  2002-11-28 19:06:31.117   \n",
       "3  DCE5AEB8-6DB9-4106-8AE4-02CCC5C23741            3  2011-07-19 18:42:45.287   \n",
       "4  886B5885-1EE2-49F3-98D5-A2F02EB8A9D4            1  1994-12-03 22:20:46.077   \n",
       "\n",
       "          AdmissionEndDate  \n",
       "0  2011-10-22 01:16:07.557  \n",
       "1  1993-02-24 17:22:29.713  \n",
       "2  2002-12-04 19:14:40.797  \n",
       "3  2011-07-25 04:57:42.053  \n",
       "4  1994-12-20 20:24:56.010  "
      ]
     },
     "execution_count": 4,
     "metadata": {},
     "output_type": "execute_result"
    }
   ],
   "source": [
    "dfs['admissions'].head()"
   ]
  },
  {
   "cell_type": "code",
   "execution_count": 5,
   "metadata": {},
   "outputs": [
    {
     "data": {
      "text/html": [
       "<div>\n",
       "<style scoped>\n",
       "    .dataframe tbody tr th:only-of-type {\n",
       "        vertical-align: middle;\n",
       "    }\n",
       "\n",
       "    .dataframe tbody tr th {\n",
       "        vertical-align: top;\n",
       "    }\n",
       "\n",
       "    .dataframe thead th {\n",
       "        text-align: right;\n",
       "    }\n",
       "</style>\n",
       "<table border=\"1\" class=\"dataframe\">\n",
       "  <thead>\n",
       "    <tr style=\"text-align: right;\">\n",
       "      <th></th>\n",
       "      <th>PatientID</th>\n",
       "      <th>AdmissionID</th>\n",
       "      <th>PrimaryDiagnosisCode</th>\n",
       "      <th>PrimaryDiagnosisDescription</th>\n",
       "    </tr>\n",
       "  </thead>\n",
       "  <tbody>\n",
       "    <tr>\n",
       "      <th>0</th>\n",
       "      <td>80AC01B2-BD55-4BE0-A59A-4024104CF4E9</td>\n",
       "      <td>2</td>\n",
       "      <td>M01.X</td>\n",
       "      <td>Direct infection of joint in infectious and pa...</td>\n",
       "    </tr>\n",
       "    <tr>\n",
       "      <th>1</th>\n",
       "      <td>80AC01B2-BD55-4BE0-A59A-4024104CF4E9</td>\n",
       "      <td>3</td>\n",
       "      <td>D65</td>\n",
       "      <td>Disseminated intravascular coagulation [defibr...</td>\n",
       "    </tr>\n",
       "    <tr>\n",
       "      <th>2</th>\n",
       "      <td>80AC01B2-BD55-4BE0-A59A-4024104CF4E9</td>\n",
       "      <td>4</td>\n",
       "      <td>C92.1</td>\n",
       "      <td>Chronic myeloid leukemia, BCR/ABL-positive</td>\n",
       "    </tr>\n",
       "    <tr>\n",
       "      <th>3</th>\n",
       "      <td>80AC01B2-BD55-4BE0-A59A-4024104CF4E9</td>\n",
       "      <td>5</td>\n",
       "      <td>M05.51</td>\n",
       "      <td>Rheumatoid polyneuropathy with rheumatoid arth...</td>\n",
       "    </tr>\n",
       "    <tr>\n",
       "      <th>4</th>\n",
       "      <td>6A57AC0C-57F3-4C19-98A1-51135EFBC4FF</td>\n",
       "      <td>1</td>\n",
       "      <td>C91.00</td>\n",
       "      <td>Acute lymphoblastic leukemia not having achiev...</td>\n",
       "    </tr>\n",
       "  </tbody>\n",
       "</table>\n",
       "</div>"
      ],
      "text/plain": [
       "                              PatientID  AdmissionID PrimaryDiagnosisCode  \\\n",
       "0  80AC01B2-BD55-4BE0-A59A-4024104CF4E9            2                M01.X   \n",
       "1  80AC01B2-BD55-4BE0-A59A-4024104CF4E9            3                  D65   \n",
       "2  80AC01B2-BD55-4BE0-A59A-4024104CF4E9            4                C92.1   \n",
       "3  80AC01B2-BD55-4BE0-A59A-4024104CF4E9            5               M05.51   \n",
       "4  6A57AC0C-57F3-4C19-98A1-51135EFBC4FF            1               C91.00   \n",
       "\n",
       "                         PrimaryDiagnosisDescription  \n",
       "0  Direct infection of joint in infectious and pa...  \n",
       "1  Disseminated intravascular coagulation [defibr...  \n",
       "2         Chronic myeloid leukemia, BCR/ABL-positive  \n",
       "3  Rheumatoid polyneuropathy with rheumatoid arth...  \n",
       "4  Acute lymphoblastic leukemia not having achiev...  "
      ]
     },
     "execution_count": 5,
     "metadata": {},
     "output_type": "execute_result"
    }
   ],
   "source": [
    "dfs['diagnosis'].head()"
   ]
  },
  {
   "cell_type": "code",
   "execution_count": 6,
   "metadata": {},
   "outputs": [
    {
     "data": {
      "text/html": [
       "<div>\n",
       "<style scoped>\n",
       "    .dataframe tbody tr th:only-of-type {\n",
       "        vertical-align: middle;\n",
       "    }\n",
       "\n",
       "    .dataframe tbody tr th {\n",
       "        vertical-align: top;\n",
       "    }\n",
       "\n",
       "    .dataframe thead th {\n",
       "        text-align: right;\n",
       "    }\n",
       "</style>\n",
       "<table border=\"1\" class=\"dataframe\">\n",
       "  <thead>\n",
       "    <tr style=\"text-align: right;\">\n",
       "      <th></th>\n",
       "      <th>PatientID</th>\n",
       "      <th>AdmissionID</th>\n",
       "      <th>LabName</th>\n",
       "      <th>LabValue</th>\n",
       "      <th>LabUnits</th>\n",
       "      <th>LabDateTime</th>\n",
       "    </tr>\n",
       "  </thead>\n",
       "  <tbody>\n",
       "    <tr>\n",
       "      <th>0</th>\n",
       "      <td>1A8791E3-A61C-455A-8DEE-763EB90C9B2C</td>\n",
       "      <td>1</td>\n",
       "      <td>URINALYSIS: RED BLOOD CELLS</td>\n",
       "      <td>1.8</td>\n",
       "      <td>rbc/hpf</td>\n",
       "      <td>1992-07-01 01:36:17.910</td>\n",
       "    </tr>\n",
       "    <tr>\n",
       "      <th>1</th>\n",
       "      <td>1A8791E3-A61C-455A-8DEE-763EB90C9B2C</td>\n",
       "      <td>1</td>\n",
       "      <td>METABOLIC: GLUCOSE</td>\n",
       "      <td>103.3</td>\n",
       "      <td>mg/dL</td>\n",
       "      <td>1992-06-30 09:35:52.383</td>\n",
       "    </tr>\n",
       "    <tr>\n",
       "      <th>2</th>\n",
       "      <td>1A8791E3-A61C-455A-8DEE-763EB90C9B2C</td>\n",
       "      <td>1</td>\n",
       "      <td>CBC: MCH</td>\n",
       "      <td>35.8</td>\n",
       "      <td>pg</td>\n",
       "      <td>1992-06-30 03:50:11.777</td>\n",
       "    </tr>\n",
       "    <tr>\n",
       "      <th>3</th>\n",
       "      <td>1A8791E3-A61C-455A-8DEE-763EB90C9B2C</td>\n",
       "      <td>1</td>\n",
       "      <td>METABOLIC: CALCIUM</td>\n",
       "      <td>8.9</td>\n",
       "      <td>mg/dL</td>\n",
       "      <td>1992-06-30 12:09:46.107</td>\n",
       "    </tr>\n",
       "    <tr>\n",
       "      <th>4</th>\n",
       "      <td>1A8791E3-A61C-455A-8DEE-763EB90C9B2C</td>\n",
       "      <td>1</td>\n",
       "      <td>CBC: RED BLOOD CELL COUNT</td>\n",
       "      <td>4.8</td>\n",
       "      <td>m/cumm</td>\n",
       "      <td>1992-07-01 01:31:08.677</td>\n",
       "    </tr>\n",
       "  </tbody>\n",
       "</table>\n",
       "</div>"
      ],
      "text/plain": [
       "                              PatientID  AdmissionID  \\\n",
       "0  1A8791E3-A61C-455A-8DEE-763EB90C9B2C            1   \n",
       "1  1A8791E3-A61C-455A-8DEE-763EB90C9B2C            1   \n",
       "2  1A8791E3-A61C-455A-8DEE-763EB90C9B2C            1   \n",
       "3  1A8791E3-A61C-455A-8DEE-763EB90C9B2C            1   \n",
       "4  1A8791E3-A61C-455A-8DEE-763EB90C9B2C            1   \n",
       "\n",
       "                       LabName  LabValue LabUnits              LabDateTime  \n",
       "0  URINALYSIS: RED BLOOD CELLS       1.8  rbc/hpf  1992-07-01 01:36:17.910  \n",
       "1           METABOLIC: GLUCOSE     103.3    mg/dL  1992-06-30 09:35:52.383  \n",
       "2                     CBC: MCH      35.8       pg  1992-06-30 03:50:11.777  \n",
       "3           METABOLIC: CALCIUM       8.9    mg/dL  1992-06-30 12:09:46.107  \n",
       "4    CBC: RED BLOOD CELL COUNT       4.8   m/cumm  1992-07-01 01:31:08.677  "
      ]
     },
     "execution_count": 6,
     "metadata": {},
     "output_type": "execute_result"
    }
   ],
   "source": [
    "dfs['labs'].head()"
   ]
  },
  {
   "cell_type": "code",
   "execution_count": 7,
   "metadata": {},
   "outputs": [
    {
     "data": {
      "text/html": [
       "<div>\n",
       "<style scoped>\n",
       "    .dataframe tbody tr th:only-of-type {\n",
       "        vertical-align: middle;\n",
       "    }\n",
       "\n",
       "    .dataframe tbody tr th {\n",
       "        vertical-align: top;\n",
       "    }\n",
       "\n",
       "    .dataframe thead th {\n",
       "        text-align: right;\n",
       "    }\n",
       "</style>\n",
       "<table border=\"1\" class=\"dataframe\">\n",
       "  <thead>\n",
       "    <tr style=\"text-align: right;\">\n",
       "      <th></th>\n",
       "      <th>PatientID</th>\n",
       "      <th>PatientGender</th>\n",
       "      <th>PatientDateOfBirth</th>\n",
       "      <th>PatientRace</th>\n",
       "      <th>PatientMaritalStatus</th>\n",
       "      <th>PatientLanguage</th>\n",
       "      <th>PatientPopulationPercentageBelowPoverty</th>\n",
       "    </tr>\n",
       "  </thead>\n",
       "  <tbody>\n",
       "    <tr>\n",
       "      <th>0</th>\n",
       "      <td>FB2ABB23-C9D0-4D09-8464-49BF0B982F0F</td>\n",
       "      <td>Male</td>\n",
       "      <td>1947-12-28 02:45:40.547</td>\n",
       "      <td>Unknown</td>\n",
       "      <td>Married</td>\n",
       "      <td>Icelandic</td>\n",
       "      <td>18.08</td>\n",
       "    </tr>\n",
       "    <tr>\n",
       "      <th>1</th>\n",
       "      <td>64182B95-EB72-4E2B-BE77-8050B71498CE</td>\n",
       "      <td>Male</td>\n",
       "      <td>1952-01-18 19:51:12.917</td>\n",
       "      <td>African American</td>\n",
       "      <td>Separated</td>\n",
       "      <td>English</td>\n",
       "      <td>13.03</td>\n",
       "    </tr>\n",
       "    <tr>\n",
       "      <th>2</th>\n",
       "      <td>DB22A4D9-7E4D-485C-916A-9CD1386507FB</td>\n",
       "      <td>Female</td>\n",
       "      <td>1970-07-25 13:04:20.717</td>\n",
       "      <td>Asian</td>\n",
       "      <td>Married</td>\n",
       "      <td>English</td>\n",
       "      <td>6.67</td>\n",
       "    </tr>\n",
       "    <tr>\n",
       "      <th>3</th>\n",
       "      <td>6E70D84D-C75F-477C-BC37-9177C3698C66</td>\n",
       "      <td>Male</td>\n",
       "      <td>1979-01-04 05:45:29.580</td>\n",
       "      <td>White</td>\n",
       "      <td>Married</td>\n",
       "      <td>English</td>\n",
       "      <td>16.09</td>\n",
       "    </tr>\n",
       "    <tr>\n",
       "      <th>4</th>\n",
       "      <td>C8556CC0-32FC-4CA5-A8CD-9CCF38816167</td>\n",
       "      <td>Female</td>\n",
       "      <td>1921-04-11 11:39:49.197</td>\n",
       "      <td>White</td>\n",
       "      <td>Married</td>\n",
       "      <td>English</td>\n",
       "      <td>18.20</td>\n",
       "    </tr>\n",
       "  </tbody>\n",
       "</table>\n",
       "</div>"
      ],
      "text/plain": [
       "                              PatientID PatientGender  \\\n",
       "0  FB2ABB23-C9D0-4D09-8464-49BF0B982F0F          Male   \n",
       "1  64182B95-EB72-4E2B-BE77-8050B71498CE          Male   \n",
       "2  DB22A4D9-7E4D-485C-916A-9CD1386507FB        Female   \n",
       "3  6E70D84D-C75F-477C-BC37-9177C3698C66          Male   \n",
       "4  C8556CC0-32FC-4CA5-A8CD-9CCF38816167        Female   \n",
       "\n",
       "        PatientDateOfBirth       PatientRace PatientMaritalStatus  \\\n",
       "0  1947-12-28 02:45:40.547           Unknown              Married   \n",
       "1  1952-01-18 19:51:12.917  African American            Separated   \n",
       "2  1970-07-25 13:04:20.717             Asian              Married   \n",
       "3  1979-01-04 05:45:29.580             White              Married   \n",
       "4  1921-04-11 11:39:49.197             White              Married   \n",
       "\n",
       "  PatientLanguage  PatientPopulationPercentageBelowPoverty  \n",
       "0       Icelandic                                    18.08  \n",
       "1         English                                    13.03  \n",
       "2         English                                     6.67  \n",
       "3         English                                    16.09  \n",
       "4         English                                    18.20  "
      ]
     },
     "execution_count": 7,
     "metadata": {},
     "output_type": "execute_result"
    }
   ],
   "source": [
    "dfs['patients'].head()"
   ]
  },
  {
   "cell_type": "markdown",
   "metadata": {},
   "source": [
    "#### 2. Summary statistics"
   ]
  },
  {
   "cell_type": "code",
   "execution_count": 19,
   "metadata": {},
   "outputs": [],
   "source": [
    "summ_info = emr.summary.SummaryInformation(dfs)"
   ]
  },
  {
   "cell_type": "code",
   "execution_count": 24,
   "metadata": {},
   "outputs": [
    {
     "data": {
      "text/plain": [
       "(<Figure size 1080x216 with 1 Axes>,\n",
       " <AxesSubplot:title={'center':'Number of admissions per year'}, xlabel='Date', ylabel='Admission Count'>)"
      ]
     },
     "execution_count": 24,
     "metadata": {},
     "output_type": "execute_result"
    },
    {
     "data": {
      "image/png": "[encoded data removed]",
      "text/plain": [
       "<Figure size 1080x216 with 1 Axes>"
      ]
     },
     "metadata": {
      "needs_background": "light"
     },
     "output_type": "display_data"
    }
   ],
   "source": [
    "plot = summ_info.admissions_plot()\n",
    "plot"
   ]
  },
  {
   "cell_type": "code",
   "execution_count": 25,
   "metadata": {},
   "outputs": [
    {
     "data": {
      "text/html": [
       "<div>\n",
       "<style scoped>\n",
       "    .dataframe tbody tr th:only-of-type {\n",
       "        vertical-align: middle;\n",
       "    }\n",
       "\n",
       "    .dataframe tbody tr th {\n",
       "        vertical-align: top;\n",
       "    }\n",
       "\n",
       "    .dataframe thead tr th {\n",
       "        text-align: left;\n",
       "    }\n",
       "\n",
       "    .dataframe thead tr:last-of-type th {\n",
       "        text-align: right;\n",
       "    }\n",
       "</style>\n",
       "<table border=\"1\" class=\"dataframe\">\n",
       "  <thead>\n",
       "    <tr>\n",
       "      <th></th>\n",
       "      <th></th>\n",
       "      <th colspan=\"8\" halign=\"left\">LabValue</th>\n",
       "    </tr>\n",
       "    <tr>\n",
       "      <th></th>\n",
       "      <th></th>\n",
       "      <th>count</th>\n",
       "      <th>mean</th>\n",
       "      <th>std</th>\n",
       "      <th>min</th>\n",
       "      <th>25%</th>\n",
       "      <th>50%</th>\n",
       "      <th>75%</th>\n",
       "      <th>max</th>\n",
       "    </tr>\n",
       "    <tr>\n",
       "      <th>LabName</th>\n",
       "      <th>LabUnits</th>\n",
       "      <th></th>\n",
       "      <th></th>\n",
       "      <th></th>\n",
       "      <th></th>\n",
       "      <th></th>\n",
       "      <th></th>\n",
       "      <th></th>\n",
       "      <th></th>\n",
       "    </tr>\n",
       "  </thead>\n",
       "  <tbody>\n",
       "    <tr>\n",
       "      <th>CBC: ABSOLUTE LYMPHOCYTES</th>\n",
       "      <th>%</th>\n",
       "      <td>3162.0</td>\n",
       "      <td>25.010183</td>\n",
       "      <td>5.811324</td>\n",
       "      <td>15.0</td>\n",
       "      <td>19.800</td>\n",
       "      <td>25.0</td>\n",
       "      <td>30.000</td>\n",
       "      <td>35.0</td>\n",
       "    </tr>\n",
       "    <tr>\n",
       "      <th>CBC: ABSOLUTE NEUTROPHILS</th>\n",
       "      <th>%</th>\n",
       "      <td>3210.0</td>\n",
       "      <td>70.085265</td>\n",
       "      <td>5.766335</td>\n",
       "      <td>60.0</td>\n",
       "      <td>65.100</td>\n",
       "      <td>70.3</td>\n",
       "      <td>74.900</td>\n",
       "      <td>80.0</td>\n",
       "    </tr>\n",
       "    <tr>\n",
       "      <th>CBC: BASOPHILS</th>\n",
       "      <th>k/cumm</th>\n",
       "      <td>3165.0</td>\n",
       "      <td>0.109763</td>\n",
       "      <td>0.073834</td>\n",
       "      <td>0.0</td>\n",
       "      <td>0.100</td>\n",
       "      <td>0.1</td>\n",
       "      <td>0.200</td>\n",
       "      <td>0.2</td>\n",
       "    </tr>\n",
       "    <tr>\n",
       "      <th>CBC: EOSINOPHILS</th>\n",
       "      <th>k/cumm</th>\n",
       "      <td>3191.0</td>\n",
       "      <td>0.342557</td>\n",
       "      <td>0.154495</td>\n",
       "      <td>0.1</td>\n",
       "      <td>0.200</td>\n",
       "      <td>0.3</td>\n",
       "      <td>0.500</td>\n",
       "      <td>0.6</td>\n",
       "    </tr>\n",
       "    <tr>\n",
       "      <th>CBC: HEMATOCRIT</th>\n",
       "      <th>%</th>\n",
       "      <td>3211.0</td>\n",
       "      <td>42.412924</td>\n",
       "      <td>7.197148</td>\n",
       "      <td>30.0</td>\n",
       "      <td>36.150</td>\n",
       "      <td>42.3</td>\n",
       "      <td>48.800</td>\n",
       "      <td>55.0</td>\n",
       "    </tr>\n",
       "    <tr>\n",
       "      <th>CBC: HEMOGLOBIN</th>\n",
       "      <th>gm/dl</th>\n",
       "      <td>3193.0</td>\n",
       "      <td>14.446383</td>\n",
       "      <td>2.617442</td>\n",
       "      <td>10.0</td>\n",
       "      <td>12.100</td>\n",
       "      <td>14.5</td>\n",
       "      <td>16.700</td>\n",
       "      <td>19.0</td>\n",
       "    </tr>\n",
       "    <tr>\n",
       "      <th>CBC: LYMPHOCYTES</th>\n",
       "      <th>k/cumm</th>\n",
       "      <td>3162.0</td>\n",
       "      <td>2.764485</td>\n",
       "      <td>1.310610</td>\n",
       "      <td>0.5</td>\n",
       "      <td>1.600</td>\n",
       "      <td>2.8</td>\n",
       "      <td>3.900</td>\n",
       "      <td>5.0</td>\n",
       "    </tr>\n",
       "    <tr>\n",
       "      <th>CBC: MCH</th>\n",
       "      <th>pg</th>\n",
       "      <td>3191.0</td>\n",
       "      <td>31.093826</td>\n",
       "      <td>5.195700</td>\n",
       "      <td>22.0</td>\n",
       "      <td>26.600</td>\n",
       "      <td>31.0</td>\n",
       "      <td>35.600</td>\n",
       "      <td>40.0</td>\n",
       "    </tr>\n",
       "    <tr>\n",
       "      <th>CBC: MCHC</th>\n",
       "      <th>g/dl</th>\n",
       "      <td>3202.0</td>\n",
       "      <td>34.089538</td>\n",
       "      <td>3.444835</td>\n",
       "      <td>28.0</td>\n",
       "      <td>31.200</td>\n",
       "      <td>34.1</td>\n",
       "      <td>37.100</td>\n",
       "      <td>40.0</td>\n",
       "    </tr>\n",
       "    <tr>\n",
       "      <th>CBC: MEAN CORPUSCULAR VOLUME</th>\n",
       "      <th>fl</th>\n",
       "      <td>3175.0</td>\n",
       "      <td>85.253701</td>\n",
       "      <td>8.578679</td>\n",
       "      <td>70.0</td>\n",
       "      <td>77.950</td>\n",
       "      <td>85.5</td>\n",
       "      <td>92.550</td>\n",
       "      <td>100.0</td>\n",
       "    </tr>\n",
       "    <tr>\n",
       "      <th>CBC: MONOCYTES</th>\n",
       "      <th>k/cumm</th>\n",
       "      <td>3129.0</td>\n",
       "      <td>0.630585</td>\n",
       "      <td>0.322327</td>\n",
       "      <td>0.1</td>\n",
       "      <td>0.400</td>\n",
       "      <td>0.6</td>\n",
       "      <td>0.900</td>\n",
       "      <td>1.2</td>\n",
       "    </tr>\n",
       "    <tr>\n",
       "      <th>CBC: NEUTROPHILS</th>\n",
       "      <th>k/cumm</th>\n",
       "      <td>3224.0</td>\n",
       "      <td>6.151954</td>\n",
       "      <td>2.916712</td>\n",
       "      <td>1.0</td>\n",
       "      <td>3.600</td>\n",
       "      <td>6.3</td>\n",
       "      <td>8.700</td>\n",
       "      <td>11.0</td>\n",
       "    </tr>\n",
       "    <tr>\n",
       "      <th>CBC: PLATELET COUNT</th>\n",
       "      <th>k/cumm</th>\n",
       "      <td>3177.0</td>\n",
       "      <td>282.266352</td>\n",
       "      <td>94.721581</td>\n",
       "      <td>120.0</td>\n",
       "      <td>198.800</td>\n",
       "      <td>280.8</td>\n",
       "      <td>363.800</td>\n",
       "      <td>449.9</td>\n",
       "    </tr>\n",
       "    <tr>\n",
       "      <th>CBC: RDW</th>\n",
       "      <th>%</th>\n",
       "      <td>3188.0</td>\n",
       "      <td>13.069260</td>\n",
       "      <td>2.271332</td>\n",
       "      <td>9.0</td>\n",
       "      <td>11.200</td>\n",
       "      <td>13.1</td>\n",
       "      <td>15.000</td>\n",
       "      <td>17.0</td>\n",
       "    </tr>\n",
       "    <tr>\n",
       "      <th>CBC: RED BLOOD CELL COUNT</th>\n",
       "      <th>m/cumm</th>\n",
       "      <td>3174.0</td>\n",
       "      <td>5.001418</td>\n",
       "      <td>1.141430</td>\n",
       "      <td>3.0</td>\n",
       "      <td>4.000</td>\n",
       "      <td>5.0</td>\n",
       "      <td>6.000</td>\n",
       "      <td>7.0</td>\n",
       "    </tr>\n",
       "    <tr>\n",
       "      <th>CBC: WHITE BLOOD CELL COUNT</th>\n",
       "      <th>k/cumm</th>\n",
       "      <td>3209.0</td>\n",
       "      <td>7.459614</td>\n",
       "      <td>2.588731</td>\n",
       "      <td>3.0</td>\n",
       "      <td>5.200</td>\n",
       "      <td>7.5</td>\n",
       "      <td>9.700</td>\n",
       "      <td>12.0</td>\n",
       "    </tr>\n",
       "    <tr>\n",
       "      <th>METABOLIC: ALBUMIN</th>\n",
       "      <th>gm/dL</th>\n",
       "      <td>3202.0</td>\n",
       "      <td>4.262430</td>\n",
       "      <td>1.006354</td>\n",
       "      <td>2.5</td>\n",
       "      <td>3.400</td>\n",
       "      <td>4.3</td>\n",
       "      <td>5.100</td>\n",
       "      <td>6.0</td>\n",
       "    </tr>\n",
       "    <tr>\n",
       "      <th>METABOLIC: ALK PHOS</th>\n",
       "      <th>U/L</th>\n",
       "      <td>3154.0</td>\n",
       "      <td>95.088744</td>\n",
       "      <td>31.952316</td>\n",
       "      <td>40.2</td>\n",
       "      <td>67.800</td>\n",
       "      <td>94.9</td>\n",
       "      <td>123.000</td>\n",
       "      <td>150.0</td>\n",
       "    </tr>\n",
       "    <tr>\n",
       "      <th>METABOLIC: ALT/SGPT</th>\n",
       "      <th>U/L</th>\n",
       "      <td>3155.0</td>\n",
       "      <td>45.216989</td>\n",
       "      <td>17.326100</td>\n",
       "      <td>15.0</td>\n",
       "      <td>30.350</td>\n",
       "      <td>45.1</td>\n",
       "      <td>60.300</td>\n",
       "      <td>75.0</td>\n",
       "    </tr>\n",
       "    <tr>\n",
       "      <th>METABOLIC: ANION GAP</th>\n",
       "      <th>mmol/L</th>\n",
       "      <td>3166.0</td>\n",
       "      <td>10.545989</td>\n",
       "      <td>4.363678</td>\n",
       "      <td>3.0</td>\n",
       "      <td>6.800</td>\n",
       "      <td>10.4</td>\n",
       "      <td>14.400</td>\n",
       "      <td>18.0</td>\n",
       "    </tr>\n",
       "    <tr>\n",
       "      <th>METABOLIC: AST/SGOT</th>\n",
       "      <th>U/L</th>\n",
       "      <td>3179.0</td>\n",
       "      <td>27.062001</td>\n",
       "      <td>8.618117</td>\n",
       "      <td>12.0</td>\n",
       "      <td>19.600</td>\n",
       "      <td>27.2</td>\n",
       "      <td>34.300</td>\n",
       "      <td>42.0</td>\n",
       "    </tr>\n",
       "    <tr>\n",
       "      <th>METABOLIC: BILI TOTAL</th>\n",
       "      <th>mg/dL</th>\n",
       "      <td>3182.0</td>\n",
       "      <td>0.599340</td>\n",
       "      <td>0.346577</td>\n",
       "      <td>0.0</td>\n",
       "      <td>0.300</td>\n",
       "      <td>0.6</td>\n",
       "      <td>0.900</td>\n",
       "      <td>1.2</td>\n",
       "    </tr>\n",
       "    <tr>\n",
       "      <th>METABOLIC: BUN</th>\n",
       "      <th>mg/dL</th>\n",
       "      <td>3158.0</td>\n",
       "      <td>17.502407</td>\n",
       "      <td>7.189155</td>\n",
       "      <td>5.0</td>\n",
       "      <td>11.400</td>\n",
       "      <td>17.4</td>\n",
       "      <td>23.800</td>\n",
       "      <td>30.0</td>\n",
       "    </tr>\n",
       "    <tr>\n",
       "      <th>METABOLIC: CALCIUM</th>\n",
       "      <th>mg/dL</th>\n",
       "      <td>3179.0</td>\n",
       "      <td>9.499214</td>\n",
       "      <td>1.442474</td>\n",
       "      <td>7.0</td>\n",
       "      <td>8.300</td>\n",
       "      <td>9.5</td>\n",
       "      <td>10.800</td>\n",
       "      <td>12.0</td>\n",
       "    </tr>\n",
       "    <tr>\n",
       "      <th>METABOLIC: CARBON DIOXIDE</th>\n",
       "      <th>mmol/L</th>\n",
       "      <td>3218.0</td>\n",
       "      <td>26.911653</td>\n",
       "      <td>5.209798</td>\n",
       "      <td>18.0</td>\n",
       "      <td>22.400</td>\n",
       "      <td>26.8</td>\n",
       "      <td>31.500</td>\n",
       "      <td>36.0</td>\n",
       "    </tr>\n",
       "    <tr>\n",
       "      <th>METABOLIC: CHLORIDE</th>\n",
       "      <th>mmol/L</th>\n",
       "      <td>3190.0</td>\n",
       "      <td>102.550972</td>\n",
       "      <td>7.134312</td>\n",
       "      <td>90.0</td>\n",
       "      <td>96.400</td>\n",
       "      <td>102.7</td>\n",
       "      <td>108.600</td>\n",
       "      <td>115.0</td>\n",
       "    </tr>\n",
       "    <tr>\n",
       "      <th>METABOLIC: CREATININE</th>\n",
       "      <th>mg/dL</th>\n",
       "      <td>3193.0</td>\n",
       "      <td>0.851080</td>\n",
       "      <td>0.207351</td>\n",
       "      <td>0.5</td>\n",
       "      <td>0.700</td>\n",
       "      <td>0.8</td>\n",
       "      <td>1.000</td>\n",
       "      <td>1.2</td>\n",
       "    </tr>\n",
       "    <tr>\n",
       "      <th>METABOLIC: GLUCOSE</th>\n",
       "      <th>mg/dL</th>\n",
       "      <td>3202.0</td>\n",
       "      <td>100.547939</td>\n",
       "      <td>23.013964</td>\n",
       "      <td>60.0</td>\n",
       "      <td>80.725</td>\n",
       "      <td>101.2</td>\n",
       "      <td>120.175</td>\n",
       "      <td>139.9</td>\n",
       "    </tr>\n",
       "    <tr>\n",
       "      <th>METABOLIC: POTASSIUM</th>\n",
       "      <th>mmol/L</th>\n",
       "      <td>3184.0</td>\n",
       "      <td>4.510207</td>\n",
       "      <td>0.866821</td>\n",
       "      <td>3.0</td>\n",
       "      <td>3.800</td>\n",
       "      <td>4.5</td>\n",
       "      <td>5.300</td>\n",
       "      <td>6.0</td>\n",
       "    </tr>\n",
       "    <tr>\n",
       "      <th>METABOLIC: SODIUM</th>\n",
       "      <th>mmol/L</th>\n",
       "      <td>3206.0</td>\n",
       "      <td>139.996538</td>\n",
       "      <td>8.789718</td>\n",
       "      <td>125.0</td>\n",
       "      <td>132.300</td>\n",
       "      <td>140.2</td>\n",
       "      <td>147.700</td>\n",
       "      <td>155.0</td>\n",
       "    </tr>\n",
       "    <tr>\n",
       "      <th>METABOLIC: TOTAL PROTEIN</th>\n",
       "      <th>gm/dL</th>\n",
       "      <td>3177.0</td>\n",
       "      <td>7.502235</td>\n",
       "      <td>1.435070</td>\n",
       "      <td>5.0</td>\n",
       "      <td>6.300</td>\n",
       "      <td>7.5</td>\n",
       "      <td>8.700</td>\n",
       "      <td>10.0</td>\n",
       "    </tr>\n",
       "    <tr>\n",
       "      <th>URINALYSIS: PH</th>\n",
       "      <th>no unit</th>\n",
       "      <td>3187.0</td>\n",
       "      <td>5.996360</td>\n",
       "      <td>0.855828</td>\n",
       "      <td>4.5</td>\n",
       "      <td>5.300</td>\n",
       "      <td>6.0</td>\n",
       "      <td>6.700</td>\n",
       "      <td>7.5</td>\n",
       "    </tr>\n",
       "    <tr>\n",
       "      <th>URINALYSIS: RED BLOOD CELLS</th>\n",
       "      <th>rbc/hpf</th>\n",
       "      <td>3187.0</td>\n",
       "      <td>1.779322</td>\n",
       "      <td>1.013327</td>\n",
       "      <td>0.0</td>\n",
       "      <td>0.900</td>\n",
       "      <td>1.8</td>\n",
       "      <td>2.700</td>\n",
       "      <td>3.5</td>\n",
       "    </tr>\n",
       "    <tr>\n",
       "      <th>URINALYSIS: SPECIFIC GRAVITY</th>\n",
       "      <th>no unit</th>\n",
       "      <td>3181.0</td>\n",
       "      <td>1.000000</td>\n",
       "      <td>0.000000</td>\n",
       "      <td>1.0</td>\n",
       "      <td>1.000</td>\n",
       "      <td>1.0</td>\n",
       "      <td>1.000</td>\n",
       "      <td>1.0</td>\n",
       "    </tr>\n",
       "    <tr>\n",
       "      <th>URINALYSIS: WHITE BLOOD CELLS</th>\n",
       "      <th>wbc/hpf</th>\n",
       "      <td>3218.0</td>\n",
       "      <td>3.002082</td>\n",
       "      <td>1.719924</td>\n",
       "      <td>0.0</td>\n",
       "      <td>1.500</td>\n",
       "      <td>3.0</td>\n",
       "      <td>4.400</td>\n",
       "      <td>6.0</td>\n",
       "    </tr>\n",
       "  </tbody>\n",
       "</table>\n",
       "</div>"
      ],
      "text/plain": [
       "                                       LabValue                                \\\n",
       "                                          count        mean        std    min   \n",
       "LabName                       LabUnits                                          \n",
       "CBC: ABSOLUTE LYMPHOCYTES     %          3162.0   25.010183   5.811324   15.0   \n",
       "CBC: ABSOLUTE NEUTROPHILS     %          3210.0   70.085265   5.766335   60.0   \n",
       "CBC: BASOPHILS                k/cumm     3165.0    0.109763   0.073834    0.0   \n",
       "CBC: EOSINOPHILS              k/cumm     3191.0    0.342557   0.154495    0.1   \n",
       "CBC: HEMATOCRIT               %          3211.0   42.412924   7.197148   30.0   \n",
       "CBC: HEMOGLOBIN               gm/dl      3193.0   14.446383   2.617442   10.0   \n",
       "CBC: LYMPHOCYTES              k/cumm     3162.0    2.764485   1.310610    0.5   \n",
       "CBC: MCH                      pg         3191.0   31.093826   5.195700   22.0   \n",
       "CBC: MCHC                     g/dl       3202.0   34.089538   3.444835   28.0   \n",
       "CBC: MEAN CORPUSCULAR VOLUME  fl         3175.0   85.253701   8.578679   70.0   \n",
       "CBC: MONOCYTES                k/cumm     3129.0    0.630585   0.322327    0.1   \n",
       "CBC: NEUTROPHILS              k/cumm     3224.0    6.151954   2.916712    1.0   \n",
       "CBC: PLATELET COUNT           k/cumm     3177.0  282.266352  94.721581  120.0   \n",
       "CBC: RDW                      %          3188.0   13.069260   2.271332    9.0   \n",
       "CBC: RED BLOOD CELL COUNT     m/cumm     3174.0    5.001418   1.141430    3.0   \n",
       "CBC: WHITE BLOOD CELL COUNT   k/cumm     3209.0    7.459614   2.588731    3.0   \n",
       "METABOLIC: ALBUMIN            gm/dL      3202.0    4.262430   1.006354    2.5   \n",
       "METABOLIC: ALK PHOS           U/L        3154.0   95.088744  31.952316   40.2   \n",
       "METABOLIC: ALT/SGPT           U/L        3155.0   45.216989  17.326100   15.0   \n",
       "METABOLIC: ANION GAP          mmol/L     3166.0   10.545989   4.363678    3.0   \n",
       "METABOLIC: AST/SGOT           U/L        3179.0   27.062001   8.618117   12.0   \n",
       "METABOLIC: BILI TOTAL         mg/dL      3182.0    0.599340   0.346577    0.0   \n",
       "METABOLIC: BUN                mg/dL      3158.0   17.502407   7.189155    5.0   \n",
       "METABOLIC: CALCIUM            mg/dL      3179.0    9.499214   1.442474    7.0   \n",
       "METABOLIC: CARBON DIOXIDE     mmol/L     3218.0   26.911653   5.209798   18.0   \n",
       "METABOLIC: CHLORIDE           mmol/L     3190.0  102.550972   7.134312   90.0   \n",
       "METABOLIC: CREATININE         mg/dL      3193.0    0.851080   0.207351    0.5   \n",
       "METABOLIC: GLUCOSE            mg/dL      3202.0  100.547939  23.013964   60.0   \n",
       "METABOLIC: POTASSIUM          mmol/L     3184.0    4.510207   0.866821    3.0   \n",
       "METABOLIC: SODIUM             mmol/L     3206.0  139.996538   8.789718  125.0   \n",
       "METABOLIC: TOTAL PROTEIN      gm/dL      3177.0    7.502235   1.435070    5.0   \n",
       "URINALYSIS: PH                no unit    3187.0    5.996360   0.855828    4.5   \n",
       "URINALYSIS: RED BLOOD CELLS   rbc/hpf    3187.0    1.779322   1.013327    0.0   \n",
       "URINALYSIS: SPECIFIC GRAVITY  no unit    3181.0    1.000000   0.000000    1.0   \n",
       "URINALYSIS: WHITE BLOOD CELLS wbc/hpf    3218.0    3.002082   1.719924    0.0   \n",
       "\n",
       "                                                                        \n",
       "                                            25%    50%      75%    max  \n",
       "LabName                       LabUnits                                  \n",
       "CBC: ABSOLUTE LYMPHOCYTES     %          19.800   25.0   30.000   35.0  \n",
       "CBC: ABSOLUTE NEUTROPHILS     %          65.100   70.3   74.900   80.0  \n",
       "CBC: BASOPHILS                k/cumm      0.100    0.1    0.200    0.2  \n",
       "CBC: EOSINOPHILS              k/cumm      0.200    0.3    0.500    0.6  \n",
       "CBC: HEMATOCRIT               %          36.150   42.3   48.800   55.0  \n",
       "CBC: HEMOGLOBIN               gm/dl      12.100   14.5   16.700   19.0  \n",
       "CBC: LYMPHOCYTES              k/cumm      1.600    2.8    3.900    5.0  \n",
       "CBC: MCH                      pg         26.600   31.0   35.600   40.0  \n",
       "CBC: MCHC                     g/dl       31.200   34.1   37.100   40.0  \n",
       "CBC: MEAN CORPUSCULAR VOLUME  fl         77.950   85.5   92.550  100.0  \n",
       "CBC: MONOCYTES                k/cumm      0.400    0.6    0.900    1.2  \n",
       "CBC: NEUTROPHILS              k/cumm      3.600    6.3    8.700   11.0  \n",
       "CBC: PLATELET COUNT           k/cumm    198.800  280.8  363.800  449.9  \n",
       "CBC: RDW                      %          11.200   13.1   15.000   17.0  \n",
       "CBC: RED BLOOD CELL COUNT     m/cumm      4.000    5.0    6.000    7.0  \n",
       "CBC: WHITE BLOOD CELL COUNT   k/cumm      5.200    7.5    9.700   12.0  \n",
       "METABOLIC: ALBUMIN            gm/dL       3.400    4.3    5.100    6.0  \n",
       "METABOLIC: ALK PHOS           U/L        67.800   94.9  123.000  150.0  \n",
       "METABOLIC: ALT/SGPT           U/L        30.350   45.1   60.300   75.0  \n",
       "METABOLIC: ANION GAP          mmol/L      6.800   10.4   14.400   18.0  \n",
       "METABOLIC: AST/SGOT           U/L        19.600   27.2   34.300   42.0  \n",
       "METABOLIC: BILI TOTAL         mg/dL       0.300    0.6    0.900    1.2  \n",
       "METABOLIC: BUN                mg/dL      11.400   17.4   23.800   30.0  \n",
       "METABOLIC: CALCIUM            mg/dL       8.300    9.5   10.800   12.0  \n",
       "METABOLIC: CARBON DIOXIDE     mmol/L     22.400   26.8   31.500   36.0  \n",
       "METABOLIC: CHLORIDE           mmol/L     96.400  102.7  108.600  115.0  \n",
       "METABOLIC: CREATININE         mg/dL       0.700    0.8    1.000    1.2  \n",
       "METABOLIC: GLUCOSE            mg/dL      80.725  101.2  120.175  139.9  \n",
       "METABOLIC: POTASSIUM          mmol/L      3.800    4.5    5.300    6.0  \n",
       "METABOLIC: SODIUM             mmol/L    132.300  140.2  147.700  155.0  \n",
       "METABOLIC: TOTAL PROTEIN      gm/dL       6.300    7.5    8.700   10.0  \n",
       "URINALYSIS: PH                no unit     5.300    6.0    6.700    7.5  \n",
       "URINALYSIS: RED BLOOD CELLS   rbc/hpf     0.900    1.8    2.700    3.5  \n",
       "URINALYSIS: SPECIFIC GRAVITY  no unit     1.000    1.0    1.000    1.0  \n",
       "URINALYSIS: WHITE BLOOD CELLS wbc/hpf     1.500    3.0    4.400    6.0  "
      ]
     },
     "execution_count": 25,
     "metadata": {},
     "output_type": "execute_result"
    }
   ],
   "source": [
    "lab_stats = summ_info.lab_summary()\n",
    "lab_stats"
   ]
  },
  {
   "cell_type": "code",
   "execution_count": 27,
   "metadata": {},
   "outputs": [
    {
     "data": {
      "image/png": "[encoded data removed]",
      "text/plain": [
       "<Figure size 2016x1152 with 14 Axes>"
      ]
     },
     "metadata": {
      "needs_background": "light"
     },
     "output_type": "display_data"
    },
    {
     "data": {
      "image/png": "[encoded data removed]",
      "text/plain": [
       "<Figure size 2016x288 with 4 Axes>"
      ]
     },
     "metadata": {
      "needs_background": "light"
     },
     "output_type": "display_data"
    },
    {
     "data": {
      "image/png": "[encoded data removed]",
      "text/plain": [
       "<Figure size 2016x1152 with 16 Axes>"
      ]
     },
     "metadata": {
      "needs_background": "light"
     },
     "output_type": "display_data"
    }
   ],
   "source": [
    "plots = summ_info.lab_plot()"
   ]
  },
  {
   "cell_type": "markdown",
   "metadata": {},
   "source": [
    "#### 3. Get individual summary by PatientID"
   ]
  },
  {
   "cell_type": "code",
   "execution_count": 9,
   "metadata": {},
   "outputs": [],
   "source": [
    "plots = emr.plot.IndSummary(dfs)"
   ]
  },
  {
   "cell_type": "code",
   "execution_count": 10,
   "metadata": {},
   "outputs": [],
   "source": [
    "patient1_id = '1A8791E3-A61C-455A-8DEE-763EB90C9B2C'\n",
    "patient1 = plots(patient1_id)"
   ]
  },
  {
   "cell_type": "code",
   "execution_count": 11,
   "metadata": {},
   "outputs": [
    {
     "name": "stdout",
     "output_type": "stream",
     "text": [
      "                          Patient_Info                                Values\n",
      "0                                   ID  1A8791E3-A61C-455A-8DEE-763EB90C9B2C\n",
      "1                               Gender                                  Male\n",
      "2                                 Race                                 Asian\n",
      "3                       Marital Status                                Single\n",
      "4                             Language                               English\n",
      "5  Population Percentage Below Poverty                                 13.97\n",
      "6                             Birthday                            16/08/1973\n",
      "7                        Time of Birth                       10:58:34.413000\n",
      "8               Age (as of 11/01/2022)                                    48\n"
     ]
    }
   ],
   "source": [
    "print(patient1['info'])"
   ]
  },
  {
   "cell_type": "code",
   "execution_count": 12,
   "metadata": {},
   "outputs": [
    {
     "data": {
      "application/vnd.plotly.v1+json": {
       "config": {
        "plotlyServerURL": "https://plot.ly"
       },
       "data": [
        {
         "customdata": [
          [
           "1992-06-27",
           "m/cumm"
          ],
          [
           "1992-06-28",
           "m/cumm"
          ],
          [
           "1992-06-29",
           "m/cumm"
          ],
          [
           "1992-07-01",
           "m/cumm"
          ],
          [
           "1992-07-01",
           "m/cumm"
          ]
         ],
         "hovertemplate": "<b>%{hovertext}</b><br><br>Nth Admisssion=1<br>LabName=CBC: RED BLOOD CELL COUNT<br>Days in Hospital=%{x}<br>LabValue=%{y}<br>LabDateTime=%{customdata[0]}<br>LabUnits=%{customdata[1]}<extra></extra>",
         "hovertext": [
          "CBC: RED BLOOD CELL COUNT",
          "CBC: RED BLOOD CELL COUNT",
          "CBC: RED BLOOD CELL COUNT",
          "CBC: RED BLOOD CELL COUNT",
          "CBC: RED BLOOD CELL COUNT"
         ],
         "legendgroup": "1",
         "line": {
          "color": "#636efa",
          "dash": "solid"
         },
         "marker": {
          "size": 3,
          "symbol": "circle"
         },
         "mode": "markers+lines",
         "name": "1",
         "orientation": "v",
         "showlegend": true,
         "type": "scatter",
         "x": [
          0,
          1,
          2,
          4,
          4
         ],
         "xaxis": "x16",
         "y": [
          3.6,
          3.9,
          7,
          4.8,
          3.7
         ],
         "yaxis": "y16"
        },
        {
         "customdata": [
          [
           "1992-06-27",
           "k/cumm"
          ],
          [
           "1992-06-29",
           "k/cumm"
          ],
          [
           "1992-07-01",
           "k/cumm"
          ]
         ],
         "hovertemplate": "<b>%{hovertext}</b><br><br>Nth Admisssion=1<br>LabName=CBC: NEUTROPHILS<br>Days in Hospital=%{x}<br>LabValue=%{y}<br>LabDateTime=%{customdata[0]}<br>LabUnits=%{customdata[1]}<extra></extra>",
         "hovertext": [
          "CBC: NEUTROPHILS",
          "CBC: NEUTROPHILS",
          "CBC: NEUTROPHILS"
         ],
         "legendgroup": "1",
         "line": {
          "color": "#636efa",
          "dash": "solid"
         },
         "marker": {
          "size": 3,
          "symbol": "circle"
         },
         "mode": "markers+lines",
         "name": "1",
         "orientation": "v",
         "showlegend": false,
         "type": "scatter",
         "x": [
          0,
          2,
          4
         ],
         "xaxis": "x17",
         "y": [
          3.5,
          9.6,
          1
         ],
         "yaxis": "y17"
        },
        {
         "customdata": [
          [
           "1992-06-27",
           "g/dl"
          ],
          [
           "1992-06-29",
           "g/dl"
          ],
          [
           "1992-07-01",
           "g/dl"
          ]
         ],
         "hovertemplate": "<b>%{hovertext}</b><br><br>Nth Admisssion=1<br>LabName=CBC: MCHC<br>Days in Hospital=%{x}<br>LabValue=%{y}<br>LabDateTime=%{customdata[0]}<br>LabUnits=%{customdata[1]}<extra></extra>",
         "hovertext": [
          "CBC: MCHC",
          "CBC: MCHC",
          "CBC: MCHC"
         ],
         "legendgroup": "1",
         "line": {
          "color": "#636efa",
          "dash": "solid"
         },
         "marker": {
          "size": 3,
          "symbol": "circle"
         },
         "mode": "markers+lines",
         "name": "1",
         "orientation": "v",
         "showlegend": false,
         "type": "scatter",
         "x": [
          0,
          2,
          4
         ],
         "xaxis": "x18",
         "y": [
          36,
          29.4,
          28.5
         ],
         "yaxis": "y18"
        },
        {
         "customdata": [
          [
           "1992-06-27",
           "k/cumm"
          ],
          [
           "1992-06-29",
           "k/cumm"
          ],
          [
           "1992-06-30",
           "k/cumm"
          ],
          [
           "1992-07-01",
           "k/cumm"
          ]
         ],
         "hovertemplate": "<b>%{hovertext}</b><br><br>Nth Admisssion=1<br>LabName=CBC: EOSINOPHILS<br>Days in Hospital=%{x}<br>LabValue=%{y}<br>LabDateTime=%{customdata[0]}<br>LabUnits=%{customdata[1]}<extra></extra>",
         "hovertext": [
          "CBC: EOSINOPHILS",
          "CBC: EOSINOPHILS",
          "CBC: EOSINOPHILS",
          "CBC: EOSINOPHILS"
         ],
         "legendgroup": "1",
         "line": {
          "color": "#636efa",
          "dash": "solid"
         },
         "marker": {
          "size": 3,
          "symbol": "circle"
         },
         "mode": "markers+lines",
         "name": "1",
         "orientation": "v",
         "showlegend": false,
         "type": "scatter",
         "x": [
          0,
          2,
          3,
          4
         ],
         "xaxis": "x19",
         "y": [
          0.5,
          0.3,
          0.6,
          0.5
         ],
         "yaxis": "y19"
        },
        {
         "customdata": [
          [
           "1992-06-27",
           "pg"
          ],
          [
           "1992-06-29",
           "pg"
          ],
          [
           "1992-06-30",
           "pg"
          ],
          [
           "1992-07-01",
           "pg"
          ]
         ],
         "hovertemplate": "<b>%{hovertext}</b><br><br>Nth Admisssion=1<br>LabName=CBC: MCH<br>Days in Hospital=%{x}<br>LabValue=%{y}<br>LabDateTime=%{customdata[0]}<br>LabUnits=%{customdata[1]}<extra></extra>",
         "hovertext": [
          "CBC: MCH",
          "CBC: MCH",
          "CBC: MCH",
          "CBC: MCH"
         ],
         "legendgroup": "1",
         "line": {
          "color": "#636efa",
          "dash": "solid"
         },
         "marker": {
          "size": 3,
          "symbol": "circle"
         },
         "mode": "markers+lines",
         "name": "1",
         "orientation": "v",
         "showlegend": false,
         "type": "scatter",
         "x": [
          0,
          2,
          3,
          4
         ],
         "xaxis": "x20",
         "y": [
          22.6,
          26.7,
          35.8,
          24.2
         ],
         "yaxis": "y20"
        },
        {
         "customdata": [
          [
           "1992-06-27",
           "k/cumm"
          ],
          [
           "1992-06-28",
           "k/cumm"
          ],
          [
           "1992-07-01",
           "k/cumm"
          ]
         ],
         "hovertemplate": "<b>%{hovertext}</b><br><br>Nth Admisssion=1<br>LabName=CBC: WHITE BLOOD CELL COUNT<br>Days in Hospital=%{x}<br>LabValue=%{y}<br>LabDateTime=%{customdata[0]}<br>LabUnits=%{customdata[1]}<extra></extra>",
         "hovertext": [
          "CBC: WHITE BLOOD CELL COUNT",
          "CBC: WHITE BLOOD CELL COUNT",
          "CBC: WHITE BLOOD CELL COUNT"
         ],
         "legendgroup": "1",
         "line": {
          "color": "#636efa",
          "dash": "solid"
         },
         "marker": {
          "size": 3,
          "symbol": "circle"
         },
         "mode": "markers+lines",
         "name": "1",
         "orientation": "v",
         "showlegend": false,
         "type": "scatter",
         "x": [
          0,
          1,
          4
         ],
         "xaxis": "x11",
         "y": [
          8.5,
          8.1,
          3.2
         ],
         "yaxis": "y11"
        },
        {
         "customdata": [
          [
           "1992-06-27",
           "%"
          ],
          [
           "1992-06-29",
           "%"
          ],
          [
           "1992-07-01",
           "%"
          ]
         ],
         "hovertemplate": "<b>%{hovertext}</b><br><br>Nth Admisssion=1<br>LabName=CBC: ABSOLUTE NEUTROPHILS<br>Days in Hospital=%{x}<br>LabValue=%{y}<br>LabDateTime=%{customdata[0]}<br>LabUnits=%{customdata[1]}<extra></extra>",
         "hovertext": [
          "CBC: ABSOLUTE NEUTROPHILS",
          "CBC: ABSOLUTE NEUTROPHILS",
          "CBC: ABSOLUTE NEUTROPHILS"
         ],
         "legendgroup": "1",
         "line": {
          "color": "#636efa",
          "dash": "solid"
         },
         "marker": {
          "size": 3,
          "symbol": "circle"
         },
         "mode": "markers+lines",
         "name": "1",
         "orientation": "v",
         "showlegend": false,
         "type": "scatter",
         "x": [
          0,
          2,
          4
         ],
         "xaxis": "x12",
         "y": [
          65.1,
          78.1,
          73.4
         ],
         "yaxis": "y12"
        },
        {
         "customdata": [
          [
           "1992-06-27",
           "fl"
          ],
          [
           "1992-06-28",
           "fl"
          ],
          [
           "1992-06-29",
           "fl"
          ]
         ],
         "hovertemplate": "<b>%{hovertext}</b><br><br>Nth Admisssion=1<br>LabName=CBC: MEAN CORPUSCULAR VOLUME<br>Days in Hospital=%{x}<br>LabValue=%{y}<br>LabDateTime=%{customdata[0]}<br>LabUnits=%{customdata[1]}<extra></extra>",
         "hovertext": [
          "CBC: MEAN CORPUSCULAR VOLUME",
          "CBC: MEAN CORPUSCULAR VOLUME",
          "CBC: MEAN CORPUSCULAR VOLUME"
         ],
         "legendgroup": "1",
         "line": {
          "color": "#636efa",
          "dash": "solid"
         },
         "marker": {
          "size": 3,
          "symbol": "circle"
         },
         "mode": "markers+lines",
         "name": "1",
         "orientation": "v",
         "showlegend": false,
         "type": "scatter",
         "x": [
          0,
          1,
          2
         ],
         "xaxis": "x13",
         "y": [
          81.5,
          89.7,
          75.9
         ],
         "yaxis": "y13"
        },
        {
         "customdata": [
          [
           "1992-06-27",
           "k/cumm"
          ],
          [
           "1992-06-29",
           "k/cumm"
          ],
          [
           "1992-07-01",
           "k/cumm"
          ]
         ],
         "hovertemplate": "<b>%{hovertext}</b><br><br>Nth Admisssion=1<br>LabName=CBC: BASOPHILS<br>Days in Hospital=%{x}<br>LabValue=%{y}<br>LabDateTime=%{customdata[0]}<br>LabUnits=%{customdata[1]}<extra></extra>",
         "hovertext": [
          "CBC: BASOPHILS",
          "CBC: BASOPHILS",
          "CBC: BASOPHILS"
         ],
         "legendgroup": "1",
         "line": {
          "color": "#636efa",
          "dash": "solid"
         },
         "marker": {
          "size": 3,
          "symbol": "circle"
         },
         "mode": "markers+lines",
         "name": "1",
         "orientation": "v",
         "showlegend": false,
         "type": "scatter",
         "x": [
          0,
          2,
          4
         ],
         "xaxis": "x14",
         "y": [
          0.2,
          0,
          0.1
         ],
         "yaxis": "y14"
        },
        {
         "customdata": [
          [
           "1992-06-27",
           "%"
          ],
          [
           "1992-06-29",
           "%"
          ],
          [
           "1992-06-29",
           "%"
          ],
          [
           "1992-06-30",
           "%"
          ],
          [
           "1992-07-01",
           "%"
          ]
         ],
         "hovertemplate": "<b>%{hovertext}</b><br><br>Nth Admisssion=1<br>LabName=CBC: ABSOLUTE LYMPHOCYTES<br>Days in Hospital=%{x}<br>LabValue=%{y}<br>LabDateTime=%{customdata[0]}<br>LabUnits=%{customdata[1]}<extra></extra>",
         "hovertext": [
          "CBC: ABSOLUTE LYMPHOCYTES",
          "CBC: ABSOLUTE LYMPHOCYTES",
          "CBC: ABSOLUTE LYMPHOCYTES",
          "CBC: ABSOLUTE LYMPHOCYTES",
          "CBC: ABSOLUTE LYMPHOCYTES"
         ],
         "legendgroup": "1",
         "line": {
          "color": "#636efa",
          "dash": "solid"
         },
         "marker": {
          "size": 3,
          "symbol": "circle"
         },
         "mode": "markers+lines",
         "name": "1",
         "orientation": "v",
         "showlegend": false,
         "type": "scatter",
         "x": [
          0,
          2,
          2,
          3,
          4
         ],
         "xaxis": "x15",
         "y": [
          34.4,
          29.3,
          19.6,
          33.3,
          26
         ],
         "yaxis": "y15"
        },
        {
         "customdata": [
          [
           "1992-06-27",
           "k/cumm"
          ],
          [
           "1992-06-28",
           "k/cumm"
          ],
          [
           "1992-07-01",
           "k/cumm"
          ],
          [
           "1992-07-01",
           "k/cumm"
          ]
         ],
         "hovertemplate": "<b>%{hovertext}</b><br><br>Nth Admisssion=1<br>LabName=CBC: LYMPHOCYTES<br>Days in Hospital=%{x}<br>LabValue=%{y}<br>LabDateTime=%{customdata[0]}<br>LabUnits=%{customdata[1]}<extra></extra>",
         "hovertext": [
          "CBC: LYMPHOCYTES",
          "CBC: LYMPHOCYTES",
          "CBC: LYMPHOCYTES",
          "CBC: LYMPHOCYTES"
         ],
         "legendgroup": "1",
         "line": {
          "color": "#636efa",
          "dash": "solid"
         },
         "marker": {
          "size": 3,
          "symbol": "circle"
         },
         "mode": "markers+lines",
         "name": "1",
         "orientation": "v",
         "showlegend": false,
         "type": "scatter",
         "x": [
          0,
          1,
          4,
          4
         ],
         "xaxis": "x6",
         "y": [
          3,
          0.5,
          1.6,
          2.2
         ],
         "yaxis": "y6"
        },
        {
         "customdata": [
          [
           "1992-06-27",
           "k/cumm"
          ],
          [
           "1992-06-28",
           "k/cumm"
          ],
          [
           "1992-06-29",
           "k/cumm"
          ],
          [
           "1992-07-01",
           "k/cumm"
          ]
         ],
         "hovertemplate": "<b>%{hovertext}</b><br><br>Nth Admisssion=1<br>LabName=CBC: MONOCYTES<br>Days in Hospital=%{x}<br>LabValue=%{y}<br>LabDateTime=%{customdata[0]}<br>LabUnits=%{customdata[1]}<extra></extra>",
         "hovertext": [
          "CBC: MONOCYTES",
          "CBC: MONOCYTES",
          "CBC: MONOCYTES",
          "CBC: MONOCYTES"
         ],
         "legendgroup": "1",
         "line": {
          "color": "#636efa",
          "dash": "solid"
         },
         "marker": {
          "size": 3,
          "symbol": "circle"
         },
         "mode": "markers+lines",
         "name": "1",
         "orientation": "v",
         "showlegend": false,
         "type": "scatter",
         "x": [
          0,
          1,
          2,
          4
         ],
         "xaxis": "x7",
         "y": [
          1.2,
          0.4,
          0.8,
          0.8
         ],
         "yaxis": "y7"
        },
        {
         "customdata": [
          [
           "1992-06-27",
           "gm/dl"
          ],
          [
           "1992-06-29",
           "gm/dl"
          ],
          [
           "1992-07-01",
           "gm/dl"
          ]
         ],
         "hovertemplate": "<b>%{hovertext}</b><br><br>Nth Admisssion=1<br>LabName=CBC: HEMOGLOBIN<br>Days in Hospital=%{x}<br>LabValue=%{y}<br>LabDateTime=%{customdata[0]}<br>LabUnits=%{customdata[1]}<extra></extra>",
         "hovertext": [
          "CBC: HEMOGLOBIN",
          "CBC: HEMOGLOBIN",
          "CBC: HEMOGLOBIN"
         ],
         "legendgroup": "1",
         "line": {
          "color": "#636efa",
          "dash": "solid"
         },
         "marker": {
          "size": 3,
          "symbol": "circle"
         },
         "mode": "markers+lines",
         "name": "1",
         "orientation": "v",
         "showlegend": false,
         "type": "scatter",
         "x": [
          0,
          2,
          4
         ],
         "xaxis": "x8",
         "y": [
          15.9,
          12.3,
          14.2
         ],
         "yaxis": "y8"
        },
        {
         "customdata": [
          [
           "1992-06-27",
           "%"
          ],
          [
           "1992-06-29",
           "%"
          ],
          [
           "1992-06-30",
           "%"
          ],
          [
           "1992-07-01",
           "%"
          ]
         ],
         "hovertemplate": "<b>%{hovertext}</b><br><br>Nth Admisssion=1<br>LabName=CBC: RDW<br>Days in Hospital=%{x}<br>LabValue=%{y}<br>LabDateTime=%{customdata[0]}<br>LabUnits=%{customdata[1]}<extra></extra>",
         "hovertext": [
          "CBC: RDW",
          "CBC: RDW",
          "CBC: RDW",
          "CBC: RDW"
         ],
         "legendgroup": "1",
         "line": {
          "color": "#636efa",
          "dash": "solid"
         },
         "marker": {
          "size": 3,
          "symbol": "circle"
         },
         "mode": "markers+lines",
         "name": "1",
         "orientation": "v",
         "showlegend": false,
         "type": "scatter",
         "x": [
          0,
          2,
          3,
          4
         ],
         "xaxis": "x9",
         "y": [
          9.9,
          9.9,
          15.8,
          10.1
         ],
         "yaxis": "y9"
        },
        {
         "customdata": [
          [
           "1992-06-28",
           "%"
          ],
          [
           "1992-06-29",
           "%"
          ],
          [
           "1992-07-01",
           "%"
          ]
         ],
         "hovertemplate": "<b>%{hovertext}</b><br><br>Nth Admisssion=1<br>LabName=CBC: HEMATOCRIT<br>Days in Hospital=%{x}<br>LabValue=%{y}<br>LabDateTime=%{customdata[0]}<br>LabUnits=%{customdata[1]}<extra></extra>",
         "hovertext": [
          "CBC: HEMATOCRIT",
          "CBC: HEMATOCRIT",
          "CBC: HEMATOCRIT"
         ],
         "legendgroup": "1",
         "line": {
          "color": "#636efa",
          "dash": "solid"
         },
         "marker": {
          "size": 3,
          "symbol": "circle"
         },
         "mode": "markers+lines",
         "name": "1",
         "orientation": "v",
         "showlegend": false,
         "type": "scatter",
         "x": [
          0,
          1,
          3
         ],
         "xaxis": "x10",
         "y": [
          46.8,
          34.3,
          52.4
         ],
         "yaxis": "y10"
        },
        {
         "customdata": [
          [
           "1992-06-28",
           "k/cumm"
          ],
          [
           "1992-06-30",
           "k/cumm"
          ],
          [
           "1992-06-30",
           "k/cumm"
          ],
          [
           "1992-07-01",
           "k/cumm"
          ]
         ],
         "hovertemplate": "<b>%{hovertext}</b><br><br>Nth Admisssion=1<br>LabName=CBC: PLATELET COUNT<br>Days in Hospital=%{x}<br>LabValue=%{y}<br>LabDateTime=%{customdata[0]}<br>LabUnits=%{customdata[1]}<extra></extra>",
         "hovertext": [
          "CBC: PLATELET COUNT",
          "CBC: PLATELET COUNT",
          "CBC: PLATELET COUNT",
          "CBC: PLATELET COUNT"
         ],
         "legendgroup": "1",
         "line": {
          "color": "#636efa",
          "dash": "solid"
         },
         "marker": {
          "size": 3,
          "symbol": "circle"
         },
         "mode": "markers+lines",
         "name": "1",
         "orientation": "v",
         "showlegend": false,
         "type": "scatter",
         "x": [
          0,
          2,
          2,
          3
         ],
         "xaxis": "x",
         "y": [
          181.6,
          218,
          286.6,
          163.7
         ],
         "yaxis": "y"
        },
        {
         "customdata": [
          [
           "2005-07-24",
           "m/cumm"
          ],
          [
           "2005-07-26",
           "m/cumm"
          ],
          [
           "2005-07-27",
           "m/cumm"
          ],
          [
           "2005-07-29",
           "m/cumm"
          ],
          [
           "2005-07-29",
           "m/cumm"
          ],
          [
           "2005-07-30",
           "m/cumm"
          ],
          [
           "2005-08-01",
           "m/cumm"
          ],
          [
           "2005-08-01",
           "m/cumm"
          ],
          [
           "2005-08-02",
           "m/cumm"
          ],
          [
           "2005-08-03",
           "m/cumm"
          ],
          [
           "2005-08-04",
           "m/cumm"
          ],
          [
           "2005-08-06",
           "m/cumm"
          ]
         ],
         "hovertemplate": "<b>%{hovertext}</b><br><br>Nth Admisssion=2<br>LabName=CBC: RED BLOOD CELL COUNT<br>Days in Hospital=%{x}<br>LabValue=%{y}<br>LabDateTime=%{customdata[0]}<br>LabUnits=%{customdata[1]}<extra></extra>",
         "hovertext": [
          "CBC: RED BLOOD CELL COUNT",
          "CBC: RED BLOOD CELL COUNT",
          "CBC: RED BLOOD CELL COUNT",
          "CBC: RED BLOOD CELL COUNT",
          "CBC: RED BLOOD CELL COUNT",
          "CBC: RED BLOOD CELL COUNT",
          "CBC: RED BLOOD CELL COUNT",
          "CBC: RED BLOOD CELL COUNT",
          "CBC: RED BLOOD CELL COUNT",
          "CBC: RED BLOOD CELL COUNT",
          "CBC: RED BLOOD CELL COUNT",
          "CBC: RED BLOOD CELL COUNT"
         ],
         "legendgroup": "2",
         "line": {
          "color": "#EF553B",
          "dash": "solid"
         },
         "marker": {
          "size": 3,
          "symbol": "circle"
         },
         "mode": "markers+lines",
         "name": "2",
         "orientation": "v",
         "showlegend": true,
         "type": "scatter",
         "x": [
          0,
          2,
          3,
          5,
          5,
          6,
          8,
          8,
          9,
          10,
          11,
          13
         ],
         "xaxis": "x16",
         "y": [
          3.3,
          4.2,
          5,
          6.4,
          6.1,
          5.3,
          3.5,
          3.4,
          6.1,
          3.9,
          3.2,
          4.1
         ],
         "yaxis": "y16"
        },
        {
         "customdata": [
          [
           "2005-07-24",
           "k/cumm"
          ],
          [
           "2005-07-26",
           "k/cumm"
          ],
          [
           "2005-07-26",
           "k/cumm"
          ],
          [
           "2005-07-28",
           "k/cumm"
          ],
          [
           "2005-07-29",
           "k/cumm"
          ],
          [
           "2005-07-29",
           "k/cumm"
          ],
          [
           "2005-07-31",
           "k/cumm"
          ],
          [
           "2005-07-31",
           "k/cumm"
          ],
          [
           "2005-08-02",
           "k/cumm"
          ],
          [
           "2005-08-02",
           "k/cumm"
          ],
          [
           "2005-08-04",
           "k/cumm"
          ],
          [
           "2005-08-04",
           "k/cumm"
          ],
          [
           "2005-08-06",
           "k/cumm"
          ]
         ],
         "hovertemplate": "<b>%{hovertext}</b><br><br>Nth Admisssion=2<br>LabName=CBC: NEUTROPHILS<br>Days in Hospital=%{x}<br>LabValue=%{y}<br>LabDateTime=%{customdata[0]}<br>LabUnits=%{customdata[1]}<extra></extra>",
         "hovertext": [
          "CBC: NEUTROPHILS",
          "CBC: NEUTROPHILS",
          "CBC: NEUTROPHILS",
          "CBC: NEUTROPHILS",
          "CBC: NEUTROPHILS",
          "CBC: NEUTROPHILS",
          "CBC: NEUTROPHILS",
          "CBC: NEUTROPHILS",
          "CBC: NEUTROPHILS",
          "CBC: NEUTROPHILS",
          "CBC: NEUTROPHILS",
          "CBC: NEUTROPHILS",
          "CBC: NEUTROPHILS"
         ],
         "legendgroup": "2",
         "line": {
          "color": "#EF553B",
          "dash": "solid"
         },
         "marker": {
          "size": 3,
          "symbol": "circle"
         },
         "mode": "markers+lines",
         "name": "2",
         "orientation": "v",
         "showlegend": false,
         "type": "scatter",
         "x": [
          0,
          2,
          2,
          4,
          5,
          5,
          7,
          7,
          9,
          9,
          11,
          11,
          13
         ],
         "xaxis": "x17",
         "y": [
          4.2,
          3.1,
          6.2,
          3.5,
          1.5,
          1.7,
          2.7,
          3.2,
          7.1,
          7.2,
          8.7,
          2.1,
          3.2
         ],
         "yaxis": "y17"
        },
        {
         "customdata": [
          [
           "2005-07-25",
           "g/dl"
          ],
          [
           "2005-07-27",
           "g/dl"
          ],
          [
           "2005-07-28",
           "g/dl"
          ],
          [
           "2005-07-28",
           "g/dl"
          ],
          [
           "2005-07-30",
           "g/dl"
          ],
          [
           "2005-07-31",
           "g/dl"
          ],
          [
           "2005-08-01",
           "g/dl"
          ],
          [
           "2005-08-03",
           "g/dl"
          ],
          [
           "2005-08-05",
           "g/dl"
          ],
          [
           "2005-08-06",
           "g/dl"
          ]
         ],
         "hovertemplate": "<b>%{hovertext}</b><br><br>Nth Admisssion=2<br>LabName=CBC: MCHC<br>Days in Hospital=%{x}<br>LabValue=%{y}<br>LabDateTime=%{customdata[0]}<br>LabUnits=%{customdata[1]}<extra></extra>",
         "hovertext": [
          "CBC: MCHC",
          "CBC: MCHC",
          "CBC: MCHC",
          "CBC: MCHC",
          "CBC: MCHC",
          "CBC: MCHC",
          "CBC: MCHC",
          "CBC: MCHC",
          "CBC: MCHC",
          "CBC: MCHC"
         ],
         "legendgroup": "2",
         "line": {
          "color": "#EF553B",
          "dash": "solid"
         },
         "marker": {
          "size": 3,
          "symbol": "circle"
         },
         "mode": "markers+lines",
         "name": "2",
         "orientation": "v",
         "showlegend": false,
         "type": "scatter",
         "x": [
          0,
          2,
          3,
          3,
          5,
          6,
          7,
          9,
          11,
          12
         ],
         "xaxis": "x18",
         "y": [
          30.9,
          36.9,
          29.6,
          31.7,
          28.9,
          28.1,
          39.4,
          33.6,
          37,
          35.3
         ],
         "yaxis": "y18"
        },
        {
         "customdata": [
          [
           "2005-07-25",
           "k/cumm"
          ],
          [
           "2005-07-26",
           "k/cumm"
          ],
          [
           "2005-07-27",
           "k/cumm"
          ],
          [
           "2005-07-28",
           "k/cumm"
          ],
          [
           "2005-07-29",
           "k/cumm"
          ],
          [
           "2005-07-30",
           "k/cumm"
          ],
          [
           "2005-07-31",
           "k/cumm"
          ],
          [
           "2005-08-04",
           "k/cumm"
          ],
          [
           "2005-08-05",
           "k/cumm"
          ]
         ],
         "hovertemplate": "<b>%{hovertext}</b><br><br>Nth Admisssion=2<br>LabName=CBC: EOSINOPHILS<br>Days in Hospital=%{x}<br>LabValue=%{y}<br>LabDateTime=%{customdata[0]}<br>LabUnits=%{customdata[1]}<extra></extra>",
         "hovertext": [
          "CBC: EOSINOPHILS",
          "CBC: EOSINOPHILS",
          "CBC: EOSINOPHILS",
          "CBC: EOSINOPHILS",
          "CBC: EOSINOPHILS",
          "CBC: EOSINOPHILS",
          "CBC: EOSINOPHILS",
          "CBC: EOSINOPHILS",
          "CBC: EOSINOPHILS"
         ],
         "legendgroup": "2",
         "line": {
          "color": "#EF553B",
          "dash": "solid"
         },
         "marker": {
          "size": 3,
          "symbol": "circle"
         },
         "mode": "markers+lines",
         "name": "2",
         "orientation": "v",
         "showlegend": false,
         "type": "scatter",
         "x": [
          0,
          1,
          2,
          3,
          4,
          5,
          6,
          10,
          11
         ],
         "xaxis": "x19",
         "y": [
          0.4,
          0.3,
          0.5,
          0.5,
          0.3,
          0.6,
          0.1,
          0.5,
          0.5
         ],
         "yaxis": "y19"
        },
        {
         "customdata": [
          [
           "2005-07-25",
           "pg"
          ],
          [
           "2005-07-25",
           "pg"
          ],
          [
           "2005-07-26",
           "pg"
          ],
          [
           "2005-07-29",
           "pg"
          ],
          [
           "2005-07-29",
           "pg"
          ],
          [
           "2005-07-31",
           "pg"
          ],
          [
           "2005-08-01",
           "pg"
          ],
          [
           "2005-08-03",
           "pg"
          ],
          [
           "2005-08-03",
           "pg"
          ],
          [
           "2005-08-05",
           "pg"
          ],
          [
           "2005-08-06",
           "pg"
          ]
         ],
         "hovertemplate": "<b>%{hovertext}</b><br><br>Nth Admisssion=2<br>LabName=CBC: MCH<br>Days in Hospital=%{x}<br>LabValue=%{y}<br>LabDateTime=%{customdata[0]}<br>LabUnits=%{customdata[1]}<extra></extra>",
         "hovertext": [
          "CBC: MCH",
          "CBC: MCH",
          "CBC: MCH",
          "CBC: MCH",
          "CBC: MCH",
          "CBC: MCH",
          "CBC: MCH",
          "CBC: MCH",
          "CBC: MCH",
          "CBC: MCH",
          "CBC: MCH"
         ],
         "legendgroup": "2",
         "line": {
          "color": "#EF553B",
          "dash": "solid"
         },
         "marker": {
          "size": 3,
          "symbol": "circle"
         },
         "mode": "markers+lines",
         "name": "2",
         "orientation": "v",
         "showlegend": false,
         "type": "scatter",
         "x": [
          0,
          0,
          1,
          4,
          4,
          6,
          7,
          9,
          9,
          11,
          12
         ],
         "xaxis": "x20",
         "y": [
          24.1,
          27.3,
          30.7,
          34.7,
          24.4,
          22.4,
          24.6,
          25.6,
          34,
          31.9,
          32.4
         ],
         "yaxis": "y20"
        },
        {
         "customdata": [
          [
           "2005-07-24",
           "k/cumm"
          ],
          [
           "2005-07-26",
           "k/cumm"
          ],
          [
           "2005-07-28",
           "k/cumm"
          ],
          [
           "2005-07-30",
           "k/cumm"
          ],
          [
           "2005-07-30",
           "k/cumm"
          ],
          [
           "2005-07-31",
           "k/cumm"
          ],
          [
           "2005-08-01",
           "k/cumm"
          ],
          [
           "2005-08-03",
           "k/cumm"
          ],
          [
           "2005-08-04",
           "k/cumm"
          ],
          [
           "2005-08-05",
           "k/cumm"
          ],
          [
           "2005-08-06",
           "k/cumm"
          ]
         ],
         "hovertemplate": "<b>%{hovertext}</b><br><br>Nth Admisssion=2<br>LabName=CBC: WHITE BLOOD CELL COUNT<br>Days in Hospital=%{x}<br>LabValue=%{y}<br>LabDateTime=%{customdata[0]}<br>LabUnits=%{customdata[1]}<extra></extra>",
         "hovertext": [
          "CBC: WHITE BLOOD CELL COUNT",
          "CBC: WHITE BLOOD CELL COUNT",
          "CBC: WHITE BLOOD CELL COUNT",
          "CBC: WHITE BLOOD CELL COUNT",
          "CBC: WHITE BLOOD CELL COUNT",
          "CBC: WHITE BLOOD CELL COUNT",
          "CBC: WHITE BLOOD CELL COUNT",
          "CBC: WHITE BLOOD CELL COUNT",
          "CBC: WHITE BLOOD CELL COUNT",
          "CBC: WHITE BLOOD CELL COUNT",
          "CBC: WHITE BLOOD CELL COUNT"
         ],
         "legendgroup": "2",
         "line": {
          "color": "#EF553B",
          "dash": "solid"
         },
         "marker": {
          "size": 3,
          "symbol": "circle"
         },
         "mode": "markers+lines",
         "name": "2",
         "orientation": "v",
         "showlegend": false,
         "type": "scatter",
         "x": [
          0,
          2,
          4,
          6,
          6,
          7,
          8,
          10,
          11,
          12,
          13
         ],
         "xaxis": "x11",
         "y": [
          7,
          8.8,
          6,
          5.8,
          7.9,
          4.8,
          5.9,
          7.7,
          7.3,
          7.8,
          4.9
         ],
         "yaxis": "y11"
        },
        {
         "customdata": [
          [
           "2005-07-25",
           "%"
          ],
          [
           "2005-07-25",
           "%"
          ],
          [
           "2005-07-26",
           "%"
          ],
          [
           "2005-07-28",
           "%"
          ],
          [
           "2005-07-30",
           "%"
          ],
          [
           "2005-08-01",
           "%"
          ],
          [
           "2005-08-01",
           "%"
          ],
          [
           "2005-08-03",
           "%"
          ],
          [
           "2005-08-03",
           "%"
          ],
          [
           "2005-08-04",
           "%"
          ],
          [
           "2005-08-06",
           "%"
          ],
          [
           "2005-08-06",
           "%"
          ]
         ],
         "hovertemplate": "<b>%{hovertext}</b><br><br>Nth Admisssion=2<br>LabName=CBC: ABSOLUTE NEUTROPHILS<br>Days in Hospital=%{x}<br>LabValue=%{y}<br>LabDateTime=%{customdata[0]}<br>LabUnits=%{customdata[1]}<extra></extra>",
         "hovertext": [
          "CBC: ABSOLUTE NEUTROPHILS",
          "CBC: ABSOLUTE NEUTROPHILS",
          "CBC: ABSOLUTE NEUTROPHILS",
          "CBC: ABSOLUTE NEUTROPHILS",
          "CBC: ABSOLUTE NEUTROPHILS",
          "CBC: ABSOLUTE NEUTROPHILS",
          "CBC: ABSOLUTE NEUTROPHILS",
          "CBC: ABSOLUTE NEUTROPHILS",
          "CBC: ABSOLUTE NEUTROPHILS",
          "CBC: ABSOLUTE NEUTROPHILS",
          "CBC: ABSOLUTE NEUTROPHILS",
          "CBC: ABSOLUTE NEUTROPHILS"
         ],
         "legendgroup": "2",
         "line": {
          "color": "#EF553B",
          "dash": "solid"
         },
         "marker": {
          "size": 3,
          "symbol": "circle"
         },
         "mode": "markers+lines",
         "name": "2",
         "orientation": "v",
         "showlegend": false,
         "type": "scatter",
         "x": [
          0,
          0,
          1,
          3,
          5,
          7,
          7,
          9,
          9,
          10,
          12,
          12
         ],
         "xaxis": "x12",
         "y": [
          75.1,
          69,
          76.2,
          78.5,
          71.3,
          75.8,
          75.5,
          73.3,
          70.3,
          60.7,
          66.8,
          78.9
         ],
         "yaxis": "y12"
        },
        {
         "customdata": [
          [
           "2005-07-25",
           "fl"
          ],
          [
           "2005-07-26",
           "fl"
          ],
          [
           "2005-07-27",
           "fl"
          ],
          [
           "2005-07-28",
           "fl"
          ],
          [
           "2005-07-30",
           "fl"
          ],
          [
           "2005-07-31",
           "fl"
          ],
          [
           "2005-08-01",
           "fl"
          ],
          [
           "2005-08-02",
           "fl"
          ],
          [
           "2005-08-05",
           "fl"
          ],
          [
           "2005-08-06",
           "fl"
          ],
          [
           "2005-08-06",
           "fl"
          ]
         ],
         "hovertemplate": "<b>%{hovertext}</b><br><br>Nth Admisssion=2<br>LabName=CBC: MEAN CORPUSCULAR VOLUME<br>Days in Hospital=%{x}<br>LabValue=%{y}<br>LabDateTime=%{customdata[0]}<br>LabUnits=%{customdata[1]}<extra></extra>",
         "hovertext": [
          "CBC: MEAN CORPUSCULAR VOLUME",
          "CBC: MEAN CORPUSCULAR VOLUME",
          "CBC: MEAN CORPUSCULAR VOLUME",
          "CBC: MEAN CORPUSCULAR VOLUME",
          "CBC: MEAN CORPUSCULAR VOLUME",
          "CBC: MEAN CORPUSCULAR VOLUME",
          "CBC: MEAN CORPUSCULAR VOLUME",
          "CBC: MEAN CORPUSCULAR VOLUME",
          "CBC: MEAN CORPUSCULAR VOLUME",
          "CBC: MEAN CORPUSCULAR VOLUME",
          "CBC: MEAN CORPUSCULAR VOLUME"
         ],
         "legendgroup": "2",
         "line": {
          "color": "#EF553B",
          "dash": "solid"
         },
         "marker": {
          "size": 3,
          "symbol": "circle"
         },
         "mode": "markers+lines",
         "name": "2",
         "orientation": "v",
         "showlegend": false,
         "type": "scatter",
         "x": [
          0,
          1,
          2,
          3,
          5,
          6,
          7,
          8,
          11,
          12,
          12
         ],
         "xaxis": "x13",
         "y": [
          84.5,
          99.3,
          86.6,
          74,
          70.7,
          96.4,
          76.8,
          79.3,
          89.4,
          75,
          76.5
         ],
         "yaxis": "y13"
        },
        {
         "customdata": [
          [
           "2005-07-24",
           "k/cumm"
          ],
          [
           "2005-07-25",
           "k/cumm"
          ],
          [
           "2005-07-26",
           "k/cumm"
          ],
          [
           "2005-07-27",
           "k/cumm"
          ],
          [
           "2005-07-28",
           "k/cumm"
          ],
          [
           "2005-07-30",
           "k/cumm"
          ],
          [
           "2005-07-31",
           "k/cumm"
          ],
          [
           "2005-08-01",
           "k/cumm"
          ],
          [
           "2005-08-03",
           "k/cumm"
          ],
          [
           "2005-08-04",
           "k/cumm"
          ],
          [
           "2005-08-05",
           "k/cumm"
          ]
         ],
         "hovertemplate": "<b>%{hovertext}</b><br><br>Nth Admisssion=2<br>LabName=CBC: BASOPHILS<br>Days in Hospital=%{x}<br>LabValue=%{y}<br>LabDateTime=%{customdata[0]}<br>LabUnits=%{customdata[1]}<extra></extra>",
         "hovertext": [
          "CBC: BASOPHILS",
          "CBC: BASOPHILS",
          "CBC: BASOPHILS",
          "CBC: BASOPHILS",
          "CBC: BASOPHILS",
          "CBC: BASOPHILS",
          "CBC: BASOPHILS",
          "CBC: BASOPHILS",
          "CBC: BASOPHILS",
          "CBC: BASOPHILS",
          "CBC: BASOPHILS"
         ],
         "legendgroup": "2",
         "line": {
          "color": "#EF553B",
          "dash": "solid"
         },
         "marker": {
          "size": 3,
          "symbol": "circle"
         },
         "mode": "markers+lines",
         "name": "2",
         "orientation": "v",
         "showlegend": false,
         "type": "scatter",
         "x": [
          0,
          1,
          2,
          3,
          4,
          6,
          7,
          8,
          10,
          11,
          12
         ],
         "xaxis": "x14",
         "y": [
          0.2,
          0,
          0,
          0.1,
          0.2,
          0.1,
          0.2,
          0,
          0,
          0.1,
          0
         ],
         "yaxis": "y14"
        },
        {
         "customdata": [
          [
           "2005-07-24",
           "%"
          ],
          [
           "2005-07-25",
           "%"
          ],
          [
           "2005-07-26",
           "%"
          ],
          [
           "2005-07-27",
           "%"
          ],
          [
           "2005-07-29",
           "%"
          ],
          [
           "2005-07-30",
           "%"
          ],
          [
           "2005-08-02",
           "%"
          ],
          [
           "2005-08-03",
           "%"
          ],
          [
           "2005-08-03",
           "%"
          ],
          [
           "2005-08-04",
           "%"
          ]
         ],
         "hovertemplate": "<b>%{hovertext}</b><br><br>Nth Admisssion=2<br>LabName=CBC: ABSOLUTE LYMPHOCYTES<br>Days in Hospital=%{x}<br>LabValue=%{y}<br>LabDateTime=%{customdata[0]}<br>LabUnits=%{customdata[1]}<extra></extra>",
         "hovertext": [
          "CBC: ABSOLUTE LYMPHOCYTES",
          "CBC: ABSOLUTE LYMPHOCYTES",
          "CBC: ABSOLUTE LYMPHOCYTES",
          "CBC: ABSOLUTE LYMPHOCYTES",
          "CBC: ABSOLUTE LYMPHOCYTES",
          "CBC: ABSOLUTE LYMPHOCYTES",
          "CBC: ABSOLUTE LYMPHOCYTES",
          "CBC: ABSOLUTE LYMPHOCYTES",
          "CBC: ABSOLUTE LYMPHOCYTES",
          "CBC: ABSOLUTE LYMPHOCYTES"
         ],
         "legendgroup": "2",
         "line": {
          "color": "#EF553B",
          "dash": "solid"
         },
         "marker": {
          "size": 3,
          "symbol": "circle"
         },
         "mode": "markers+lines",
         "name": "2",
         "orientation": "v",
         "showlegend": false,
         "type": "scatter",
         "x": [
          0,
          1,
          2,
          3,
          5,
          6,
          9,
          10,
          10,
          11
         ],
         "xaxis": "x15",
         "y": [
          33.8,
          28,
          25.4,
          18.2,
          19.3,
          20.4,
          29.3,
          18.7,
          33.9,
          26.7
         ],
         "yaxis": "y15"
        },
        {
         "customdata": [
          [
           "2005-07-25",
           "k/cumm"
          ],
          [
           "2005-07-27",
           "k/cumm"
          ],
          [
           "2005-07-27",
           "k/cumm"
          ],
          [
           "2005-07-28",
           "k/cumm"
          ],
          [
           "2005-07-29",
           "k/cumm"
          ],
          [
           "2005-07-31",
           "k/cumm"
          ],
          [
           "2005-08-01",
           "k/cumm"
          ],
          [
           "2005-08-03",
           "k/cumm"
          ],
          [
           "2005-08-03",
           "k/cumm"
          ],
          [
           "2005-08-05",
           "k/cumm"
          ]
         ],
         "hovertemplate": "<b>%{hovertext}</b><br><br>Nth Admisssion=2<br>LabName=CBC: LYMPHOCYTES<br>Days in Hospital=%{x}<br>LabValue=%{y}<br>LabDateTime=%{customdata[0]}<br>LabUnits=%{customdata[1]}<extra></extra>",
         "hovertext": [
          "CBC: LYMPHOCYTES",
          "CBC: LYMPHOCYTES",
          "CBC: LYMPHOCYTES",
          "CBC: LYMPHOCYTES",
          "CBC: LYMPHOCYTES",
          "CBC: LYMPHOCYTES",
          "CBC: LYMPHOCYTES",
          "CBC: LYMPHOCYTES",
          "CBC: LYMPHOCYTES",
          "CBC: LYMPHOCYTES"
         ],
         "legendgroup": "2",
         "line": {
          "color": "#EF553B",
          "dash": "solid"
         },
         "marker": {
          "size": 3,
          "symbol": "circle"
         },
         "mode": "markers+lines",
         "name": "2",
         "orientation": "v",
         "showlegend": false,
         "type": "scatter",
         "x": [
          0,
          2,
          2,
          3,
          4,
          6,
          7,
          9,
          9,
          11
         ],
         "xaxis": "x6",
         "y": [
          1.3,
          2.6,
          4.7,
          3.4,
          3,
          3.1,
          2.7,
          4.6,
          2,
          0.9
         ],
         "yaxis": "y6"
        },
        {
         "customdata": [
          [
           "2005-07-25",
           "k/cumm"
          ],
          [
           "2005-07-25",
           "k/cumm"
          ],
          [
           "2005-07-26",
           "k/cumm"
          ],
          [
           "2005-07-28",
           "k/cumm"
          ],
          [
           "2005-07-29",
           "k/cumm"
          ],
          [
           "2005-07-30",
           "k/cumm"
          ],
          [
           "2005-07-31",
           "k/cumm"
          ],
          [
           "2005-08-02",
           "k/cumm"
          ],
          [
           "2005-08-02",
           "k/cumm"
          ],
          [
           "2005-08-03",
           "k/cumm"
          ],
          [
           "2005-08-05",
           "k/cumm"
          ]
         ],
         "hovertemplate": "<b>%{hovertext}</b><br><br>Nth Admisssion=2<br>LabName=CBC: MONOCYTES<br>Days in Hospital=%{x}<br>LabValue=%{y}<br>LabDateTime=%{customdata[0]}<br>LabUnits=%{customdata[1]}<extra></extra>",
         "hovertext": [
          "CBC: MONOCYTES",
          "CBC: MONOCYTES",
          "CBC: MONOCYTES",
          "CBC: MONOCYTES",
          "CBC: MONOCYTES",
          "CBC: MONOCYTES",
          "CBC: MONOCYTES",
          "CBC: MONOCYTES",
          "CBC: MONOCYTES",
          "CBC: MONOCYTES",
          "CBC: MONOCYTES"
         ],
         "legendgroup": "2",
         "line": {
          "color": "#EF553B",
          "dash": "solid"
         },
         "marker": {
          "size": 3,
          "symbol": "circle"
         },
         "mode": "markers+lines",
         "name": "2",
         "orientation": "v",
         "showlegend": false,
         "type": "scatter",
         "x": [
          0,
          0,
          1,
          3,
          4,
          5,
          6,
          8,
          8,
          9,
          11
         ],
         "xaxis": "x7",
         "y": [
          0.2,
          0.9,
          1.1,
          0.1,
          0.3,
          0.9,
          0.8,
          0.5,
          0.4,
          0.8,
          0.8
         ],
         "yaxis": "y7"
        },
        {
         "customdata": [
          [
           "2005-07-25",
           "gm/dl"
          ],
          [
           "2005-07-25",
           "gm/dl"
          ],
          [
           "2005-07-27",
           "gm/dl"
          ],
          [
           "2005-07-27",
           "gm/dl"
          ],
          [
           "2005-07-28",
           "gm/dl"
          ],
          [
           "2005-07-29",
           "gm/dl"
          ],
          [
           "2005-07-31",
           "gm/dl"
          ],
          [
           "2005-08-01",
           "gm/dl"
          ],
          [
           "2005-08-02",
           "gm/dl"
          ],
          [
           "2005-08-03",
           "gm/dl"
          ],
          [
           "2005-08-05",
           "gm/dl"
          ],
          [
           "2005-08-05",
           "gm/dl"
          ]
         ],
         "hovertemplate": "<b>%{hovertext}</b><br><br>Nth Admisssion=2<br>LabName=CBC: HEMOGLOBIN<br>Days in Hospital=%{x}<br>LabValue=%{y}<br>LabDateTime=%{customdata[0]}<br>LabUnits=%{customdata[1]}<extra></extra>",
         "hovertext": [
          "CBC: HEMOGLOBIN",
          "CBC: HEMOGLOBIN",
          "CBC: HEMOGLOBIN",
          "CBC: HEMOGLOBIN",
          "CBC: HEMOGLOBIN",
          "CBC: HEMOGLOBIN",
          "CBC: HEMOGLOBIN",
          "CBC: HEMOGLOBIN",
          "CBC: HEMOGLOBIN",
          "CBC: HEMOGLOBIN",
          "CBC: HEMOGLOBIN",
          "CBC: HEMOGLOBIN"
         ],
         "legendgroup": "2",
         "line": {
          "color": "#EF553B",
          "dash": "solid"
         },
         "marker": {
          "size": 3,
          "symbol": "circle"
         },
         "mode": "markers+lines",
         "name": "2",
         "orientation": "v",
         "showlegend": false,
         "type": "scatter",
         "x": [
          0,
          0,
          2,
          2,
          3,
          4,
          6,
          7,
          8,
          9,
          11,
          11
         ],
         "xaxis": "x8",
         "y": [
          10.8,
          12.8,
          17.4,
          16.1,
          10,
          11.2,
          12.3,
          18.9,
          11,
          17.8,
          18.3,
          16
         ],
         "yaxis": "y8"
        },
        {
         "customdata": [
          [
           "2005-07-24",
           "%"
          ],
          [
           "2005-07-25",
           "%"
          ],
          [
           "2005-07-26",
           "%"
          ],
          [
           "2005-07-28",
           "%"
          ],
          [
           "2005-07-30",
           "%"
          ],
          [
           "2005-08-01",
           "%"
          ],
          [
           "2005-08-01",
           "%"
          ],
          [
           "2005-08-03",
           "%"
          ],
          [
           "2005-08-04",
           "%"
          ],
          [
           "2005-08-04",
           "%"
          ],
          [
           "2005-08-06",
           "%"
          ]
         ],
         "hovertemplate": "<b>%{hovertext}</b><br><br>Nth Admisssion=2<br>LabName=CBC: RDW<br>Days in Hospital=%{x}<br>LabValue=%{y}<br>LabDateTime=%{customdata[0]}<br>LabUnits=%{customdata[1]}<extra></extra>",
         "hovertext": [
          "CBC: RDW",
          "CBC: RDW",
          "CBC: RDW",
          "CBC: RDW",
          "CBC: RDW",
          "CBC: RDW",
          "CBC: RDW",
          "CBC: RDW",
          "CBC: RDW",
          "CBC: RDW",
          "CBC: RDW"
         ],
         "legendgroup": "2",
         "line": {
          "color": "#EF553B",
          "dash": "solid"
         },
         "marker": {
          "size": 3,
          "symbol": "circle"
         },
         "mode": "markers+lines",
         "name": "2",
         "orientation": "v",
         "showlegend": false,
         "type": "scatter",
         "x": [
          0,
          1,
          2,
          4,
          6,
          8,
          8,
          10,
          11,
          11,
          13
         ],
         "xaxis": "x9",
         "y": [
          11.7,
          10.5,
          11.4,
          16.1,
          12.8,
          16.9,
          13.8,
          12.2,
          9.1,
          15.8,
          10.3
         ],
         "yaxis": "y9"
        },
        {
         "customdata": [
          [
           "2005-07-24",
           "%"
          ],
          [
           "2005-07-25",
           "%"
          ],
          [
           "2005-07-26",
           "%"
          ],
          [
           "2005-07-28",
           "%"
          ],
          [
           "2005-07-29",
           "%"
          ],
          [
           "2005-08-01",
           "%"
          ],
          [
           "2005-08-02",
           "%"
          ],
          [
           "2005-08-05",
           "%"
          ],
          [
           "2005-08-06",
           "%"
          ]
         ],
         "hovertemplate": "<b>%{hovertext}</b><br><br>Nth Admisssion=2<br>LabName=CBC: HEMATOCRIT<br>Days in Hospital=%{x}<br>LabValue=%{y}<br>LabDateTime=%{customdata[0]}<br>LabUnits=%{customdata[1]}<extra></extra>",
         "hovertext": [
          "CBC: HEMATOCRIT",
          "CBC: HEMATOCRIT",
          "CBC: HEMATOCRIT",
          "CBC: HEMATOCRIT",
          "CBC: HEMATOCRIT",
          "CBC: HEMATOCRIT",
          "CBC: HEMATOCRIT",
          "CBC: HEMATOCRIT",
          "CBC: HEMATOCRIT"
         ],
         "legendgroup": "2",
         "line": {
          "color": "#EF553B",
          "dash": "solid"
         },
         "marker": {
          "size": 3,
          "symbol": "circle"
         },
         "mode": "markers+lines",
         "name": "2",
         "orientation": "v",
         "showlegend": false,
         "type": "scatter",
         "x": [
          0,
          1,
          2,
          4,
          5,
          8,
          9,
          12,
          13
         ],
         "xaxis": "x10",
         "y": [
          33.4,
          54.3,
          50.9,
          34.7,
          48.4,
          53.7,
          49,
          49,
          45.7
         ],
         "yaxis": "y10"
        },
        {
         "customdata": [
          [
           "2005-07-25",
           "k/cumm"
          ],
          [
           "2005-07-25",
           "k/cumm"
          ],
          [
           "2005-07-27",
           "k/cumm"
          ],
          [
           "2005-07-28",
           "k/cumm"
          ],
          [
           "2005-07-30",
           "k/cumm"
          ],
          [
           "2005-07-30",
           "k/cumm"
          ],
          [
           "2005-08-01",
           "k/cumm"
          ],
          [
           "2005-08-01",
           "k/cumm"
          ],
          [
           "2005-08-03",
           "k/cumm"
          ],
          [
           "2005-08-03",
           "k/cumm"
          ],
          [
           "2005-08-05",
           "k/cumm"
          ],
          [
           "2005-08-06",
           "k/cumm"
          ]
         ],
         "hovertemplate": "<b>%{hovertext}</b><br><br>Nth Admisssion=2<br>LabName=CBC: PLATELET COUNT<br>Days in Hospital=%{x}<br>LabValue=%{y}<br>LabDateTime=%{customdata[0]}<br>LabUnits=%{customdata[1]}<extra></extra>",
         "hovertext": [
          "CBC: PLATELET COUNT",
          "CBC: PLATELET COUNT",
          "CBC: PLATELET COUNT",
          "CBC: PLATELET COUNT",
          "CBC: PLATELET COUNT",
          "CBC: PLATELET COUNT",
          "CBC: PLATELET COUNT",
          "CBC: PLATELET COUNT",
          "CBC: PLATELET COUNT",
          "CBC: PLATELET COUNT",
          "CBC: PLATELET COUNT",
          "CBC: PLATELET COUNT"
         ],
         "legendgroup": "2",
         "line": {
          "color": "#EF553B",
          "dash": "solid"
         },
         "marker": {
          "size": 3,
          "symbol": "circle"
         },
         "mode": "markers+lines",
         "name": "2",
         "orientation": "v",
         "showlegend": false,
         "type": "scatter",
         "x": [
          0,
          0,
          2,
          3,
          5,
          5,
          7,
          7,
          9,
          9,
          11,
          12
         ],
         "xaxis": "x",
         "y": [
          274,
          175.7,
          200.6,
          393.7,
          313.7,
          352.9,
          273.5,
          153.7,
          435,
          300.3,
          334.7,
          243.1
         ],
         "yaxis": "y"
        },
        {
         "customdata": [
          [
           "2011-12-16",
           "m/cumm"
          ],
          [
           "2011-12-18",
           "m/cumm"
          ],
          [
           "2011-12-18",
           "m/cumm"
          ],
          [
           "2011-12-19",
           "m/cumm"
          ],
          [
           "2011-12-21",
           "m/cumm"
          ],
          [
           "2011-12-22",
           "m/cumm"
          ],
          [
           "2011-12-22",
           "m/cumm"
          ],
          [
           "2011-12-23",
           "m/cumm"
          ],
          [
           "2011-12-25",
           "m/cumm"
          ]
         ],
         "hovertemplate": "<b>%{hovertext}</b><br><br>Nth Admisssion=3<br>LabName=CBC: RED BLOOD CELL COUNT<br>Days in Hospital=%{x}<br>LabValue=%{y}<br>LabDateTime=%{customdata[0]}<br>LabUnits=%{customdata[1]}<extra></extra>",
         "hovertext": [
          "CBC: RED BLOOD CELL COUNT",
          "CBC: RED BLOOD CELL COUNT",
          "CBC: RED BLOOD CELL COUNT",
          "CBC: RED BLOOD CELL COUNT",
          "CBC: RED BLOOD CELL COUNT",
          "CBC: RED BLOOD CELL COUNT",
          "CBC: RED BLOOD CELL COUNT",
          "CBC: RED BLOOD CELL COUNT",
          "CBC: RED BLOOD CELL COUNT"
         ],
         "legendgroup": "3",
         "line": {
          "color": "#00cc96",
          "dash": "solid"
         },
         "marker": {
          "size": 3,
          "symbol": "circle"
         },
         "mode": "markers+lines",
         "name": "3",
         "orientation": "v",
         "showlegend": true,
         "type": "scatter",
         "x": [
          0,
          2,
          2,
          3,
          5,
          6,
          6,
          7,
          9
         ],
         "xaxis": "x16",
         "y": [
          5,
          4.1,
          5.7,
          5.2,
          6.6,
          6.3,
          3.3,
          5.3,
          3.8
         ],
         "yaxis": "y16"
        },
        {
         "customdata": [
          [
           "2011-12-16",
           "k/cumm"
          ],
          [
           "2011-12-17",
           "k/cumm"
          ],
          [
           "2011-12-18",
           "k/cumm"
          ],
          [
           "2011-12-19",
           "k/cumm"
          ],
          [
           "2011-12-20",
           "k/cumm"
          ],
          [
           "2011-12-23",
           "k/cumm"
          ],
          [
           "2011-12-24",
           "k/cumm"
          ],
          [
           "2011-12-25",
           "k/cumm"
          ]
         ],
         "hovertemplate": "<b>%{hovertext}</b><br><br>Nth Admisssion=3<br>LabName=CBC: NEUTROPHILS<br>Days in Hospital=%{x}<br>LabValue=%{y}<br>LabDateTime=%{customdata[0]}<br>LabUnits=%{customdata[1]}<extra></extra>",
         "hovertext": [
          "CBC: NEUTROPHILS",
          "CBC: NEUTROPHILS",
          "CBC: NEUTROPHILS",
          "CBC: NEUTROPHILS",
          "CBC: NEUTROPHILS",
          "CBC: NEUTROPHILS",
          "CBC: NEUTROPHILS",
          "CBC: NEUTROPHILS"
         ],
         "legendgroup": "3",
         "line": {
          "color": "#00cc96",
          "dash": "solid"
         },
         "marker": {
          "size": 3,
          "symbol": "circle"
         },
         "mode": "markers+lines",
         "name": "3",
         "orientation": "v",
         "showlegend": false,
         "type": "scatter",
         "x": [
          0,
          1,
          2,
          3,
          4,
          7,
          8,
          9
         ],
         "xaxis": "x17",
         "y": [
          5.1,
          10.7,
          1.1,
          9.3,
          6.7,
          2.3,
          5.8,
          8.5
         ],
         "yaxis": "y17"
        },
        {
         "customdata": [
          [
           "2011-12-16",
           "g/dl"
          ],
          [
           "2011-12-18",
           "g/dl"
          ],
          [
           "2011-12-18",
           "g/dl"
          ],
          [
           "2011-12-21",
           "g/dl"
          ],
          [
           "2011-12-21",
           "g/dl"
          ],
          [
           "2011-12-23",
           "g/dl"
          ],
          [
           "2011-12-24",
           "g/dl"
          ],
          [
           "2011-12-25",
           "g/dl"
          ]
         ],
         "hovertemplate": "<b>%{hovertext}</b><br><br>Nth Admisssion=3<br>LabName=CBC: MCHC<br>Days in Hospital=%{x}<br>LabValue=%{y}<br>LabDateTime=%{customdata[0]}<br>LabUnits=%{customdata[1]}<extra></extra>",
         "hovertext": [
          "CBC: MCHC",
          "CBC: MCHC",
          "CBC: MCHC",
          "CBC: MCHC",
          "CBC: MCHC",
          "CBC: MCHC",
          "CBC: MCHC",
          "CBC: MCHC"
         ],
         "legendgroup": "3",
         "line": {
          "color": "#00cc96",
          "dash": "solid"
         },
         "marker": {
          "size": 3,
          "symbol": "circle"
         },
         "mode": "markers+lines",
         "name": "3",
         "orientation": "v",
         "showlegend": false,
         "type": "scatter",
         "x": [
          0,
          2,
          2,
          5,
          5,
          7,
          8,
          9
         ],
         "xaxis": "x18",
         "y": [
          33.2,
          34.7,
          33.9,
          31.9,
          38,
          33.1,
          30.7,
          28.6
         ],
         "yaxis": "y18"
        },
        {
         "customdata": [
          [
           "2011-12-16",
           "k/cumm"
          ],
          [
           "2011-12-17",
           "k/cumm"
          ],
          [
           "2011-12-18",
           "k/cumm"
          ],
          [
           "2011-12-19",
           "k/cumm"
          ],
          [
           "2011-12-21",
           "k/cumm"
          ],
          [
           "2011-12-23",
           "k/cumm"
          ],
          [
           "2011-12-23",
           "k/cumm"
          ],
          [
           "2011-12-25",
           "k/cumm"
          ],
          [
           "2011-12-25",
           "k/cumm"
          ]
         ],
         "hovertemplate": "<b>%{hovertext}</b><br><br>Nth Admisssion=3<br>LabName=CBC: EOSINOPHILS<br>Days in Hospital=%{x}<br>LabValue=%{y}<br>LabDateTime=%{customdata[0]}<br>LabUnits=%{customdata[1]}<extra></extra>",
         "hovertext": [
          "CBC: EOSINOPHILS",
          "CBC: EOSINOPHILS",
          "CBC: EOSINOPHILS",
          "CBC: EOSINOPHILS",
          "CBC: EOSINOPHILS",
          "CBC: EOSINOPHILS",
          "CBC: EOSINOPHILS",
          "CBC: EOSINOPHILS",
          "CBC: EOSINOPHILS"
         ],
         "legendgroup": "3",
         "line": {
          "color": "#00cc96",
          "dash": "solid"
         },
         "marker": {
          "size": 3,
          "symbol": "circle"
         },
         "mode": "markers+lines",
         "name": "3",
         "orientation": "v",
         "showlegend": false,
         "type": "scatter",
         "x": [
          0,
          1,
          2,
          3,
          5,
          7,
          7,
          9,
          9
         ],
         "xaxis": "x19",
         "y": [
          0.2,
          0.2,
          0.3,
          0.1,
          0.5,
          0.3,
          0.1,
          0.5,
          0.3
         ],
         "yaxis": "y19"
        },
        {
         "customdata": [
          [
           "2011-12-17",
           "pg"
          ],
          [
           "2011-12-18",
           "pg"
          ],
          [
           "2011-12-18",
           "pg"
          ],
          [
           "2011-12-19",
           "pg"
          ],
          [
           "2011-12-20",
           "pg"
          ],
          [
           "2011-12-23",
           "pg"
          ],
          [
           "2011-12-23",
           "pg"
          ],
          [
           "2011-12-24",
           "pg"
          ],
          [
           "2011-12-25",
           "pg"
          ]
         ],
         "hovertemplate": "<b>%{hovertext}</b><br><br>Nth Admisssion=3<br>LabName=CBC: MCH<br>Days in Hospital=%{x}<br>LabValue=%{y}<br>LabDateTime=%{customdata[0]}<br>LabUnits=%{customdata[1]}<extra></extra>",
         "hovertext": [
          "CBC: MCH",
          "CBC: MCH",
          "CBC: MCH",
          "CBC: MCH",
          "CBC: MCH",
          "CBC: MCH",
          "CBC: MCH",
          "CBC: MCH",
          "CBC: MCH"
         ],
         "legendgroup": "3",
         "line": {
          "color": "#00cc96",
          "dash": "solid"
         },
         "marker": {
          "size": 3,
          "symbol": "circle"
         },
         "mode": "markers+lines",
         "name": "3",
         "orientation": "v",
         "showlegend": false,
         "type": "scatter",
         "x": [
          0,
          1,
          1,
          2,
          3,
          6,
          6,
          7,
          8
         ],
         "xaxis": "x20",
         "y": [
          25.4,
          24.6,
          28,
          40,
          24.2,
          24.6,
          35.3,
          28.2,
          22.6
         ],
         "yaxis": "y20"
        },
        {
         "customdata": [
          [
           "2011-12-18",
           "k/cumm"
          ],
          [
           "2011-12-18",
           "k/cumm"
          ],
          [
           "2011-12-20",
           "k/cumm"
          ],
          [
           "2011-12-20",
           "k/cumm"
          ],
          [
           "2011-12-22",
           "k/cumm"
          ],
          [
           "2011-12-24",
           "k/cumm"
          ],
          [
           "2011-12-25",
           "k/cumm"
          ]
         ],
         "hovertemplate": "<b>%{hovertext}</b><br><br>Nth Admisssion=3<br>LabName=CBC: WHITE BLOOD CELL COUNT<br>Days in Hospital=%{x}<br>LabValue=%{y}<br>LabDateTime=%{customdata[0]}<br>LabUnits=%{customdata[1]}<extra></extra>",
         "hovertext": [
          "CBC: WHITE BLOOD CELL COUNT",
          "CBC: WHITE BLOOD CELL COUNT",
          "CBC: WHITE BLOOD CELL COUNT",
          "CBC: WHITE BLOOD CELL COUNT",
          "CBC: WHITE BLOOD CELL COUNT",
          "CBC: WHITE BLOOD CELL COUNT",
          "CBC: WHITE BLOOD CELL COUNT"
         ],
         "legendgroup": "3",
         "line": {
          "color": "#00cc96",
          "dash": "solid"
         },
         "marker": {
          "size": 3,
          "symbol": "circle"
         },
         "mode": "markers+lines",
         "name": "3",
         "orientation": "v",
         "showlegend": false,
         "type": "scatter",
         "x": [
          0,
          0,
          2,
          2,
          4,
          6,
          7
         ],
         "xaxis": "x11",
         "y": [
          5.6,
          8.9,
          11.9,
          4.8,
          5.9,
          7.4,
          10.9
         ],
         "yaxis": "y11"
        },
        {
         "customdata": [
          [
           "2011-12-18",
           "%"
          ],
          [
           "2011-12-19",
           "%"
          ],
          [
           "2011-12-20",
           "%"
          ],
          [
           "2011-12-21",
           "%"
          ],
          [
           "2011-12-22",
           "%"
          ],
          [
           "2011-12-25",
           "%"
          ]
         ],
         "hovertemplate": "<b>%{hovertext}</b><br><br>Nth Admisssion=3<br>LabName=CBC: ABSOLUTE NEUTROPHILS<br>Days in Hospital=%{x}<br>LabValue=%{y}<br>LabDateTime=%{customdata[0]}<br>LabUnits=%{customdata[1]}<extra></extra>",
         "hovertext": [
          "CBC: ABSOLUTE NEUTROPHILS",
          "CBC: ABSOLUTE NEUTROPHILS",
          "CBC: ABSOLUTE NEUTROPHILS",
          "CBC: ABSOLUTE NEUTROPHILS",
          "CBC: ABSOLUTE NEUTROPHILS",
          "CBC: ABSOLUTE NEUTROPHILS"
         ],
         "legendgroup": "3",
         "line": {
          "color": "#00cc96",
          "dash": "solid"
         },
         "marker": {
          "size": 3,
          "symbol": "circle"
         },
         "mode": "markers+lines",
         "name": "3",
         "orientation": "v",
         "showlegend": false,
         "type": "scatter",
         "x": [
          0,
          1,
          2,
          3,
          4,
          7
         ],
         "xaxis": "x12",
         "y": [
          72.3,
          76.5,
          78.7,
          60.4,
          61.7,
          62.5
         ],
         "yaxis": "y12"
        },
        {
         "customdata": [
          [
           "2011-12-18",
           "fl"
          ],
          [
           "2011-12-19",
           "fl"
          ],
          [
           "2011-12-20",
           "fl"
          ],
          [
           "2011-12-21",
           "fl"
          ],
          [
           "2011-12-21",
           "fl"
          ],
          [
           "2011-12-23",
           "fl"
          ],
          [
           "2011-12-25",
           "fl"
          ]
         ],
         "hovertemplate": "<b>%{hovertext}</b><br><br>Nth Admisssion=3<br>LabName=CBC: MEAN CORPUSCULAR VOLUME<br>Days in Hospital=%{x}<br>LabValue=%{y}<br>LabDateTime=%{customdata[0]}<br>LabUnits=%{customdata[1]}<extra></extra>",
         "hovertext": [
          "CBC: MEAN CORPUSCULAR VOLUME",
          "CBC: MEAN CORPUSCULAR VOLUME",
          "CBC: MEAN CORPUSCULAR VOLUME",
          "CBC: MEAN CORPUSCULAR VOLUME",
          "CBC: MEAN CORPUSCULAR VOLUME",
          "CBC: MEAN CORPUSCULAR VOLUME",
          "CBC: MEAN CORPUSCULAR VOLUME"
         ],
         "legendgroup": "3",
         "line": {
          "color": "#00cc96",
          "dash": "solid"
         },
         "marker": {
          "size": 3,
          "symbol": "circle"
         },
         "mode": "markers+lines",
         "name": "3",
         "orientation": "v",
         "showlegend": false,
         "type": "scatter",
         "x": [
          0,
          1,
          2,
          3,
          3,
          5,
          7
         ],
         "xaxis": "x13",
         "y": [
          81.6,
          72.3,
          94.5,
          98,
          82.7,
          99.1,
          97
         ],
         "yaxis": "y13"
        },
        {
         "customdata": [
          [
           "2011-12-16",
           "k/cumm"
          ],
          [
           "2011-12-19",
           "k/cumm"
          ],
          [
           "2011-12-20",
           "k/cumm"
          ],
          [
           "2011-12-20",
           "k/cumm"
          ],
          [
           "2011-12-21",
           "k/cumm"
          ]
         ],
         "hovertemplate": "<b>%{hovertext}</b><br><br>Nth Admisssion=3<br>LabName=CBC: BASOPHILS<br>Days in Hospital=%{x}<br>LabValue=%{y}<br>LabDateTime=%{customdata[0]}<br>LabUnits=%{customdata[1]}<extra></extra>",
         "hovertext": [
          "CBC: BASOPHILS",
          "CBC: BASOPHILS",
          "CBC: BASOPHILS",
          "CBC: BASOPHILS",
          "CBC: BASOPHILS"
         ],
         "legendgroup": "3",
         "line": {
          "color": "#00cc96",
          "dash": "solid"
         },
         "marker": {
          "size": 3,
          "symbol": "circle"
         },
         "mode": "markers+lines",
         "name": "3",
         "orientation": "v",
         "showlegend": false,
         "type": "scatter",
         "x": [
          0,
          3,
          4,
          4,
          5
         ],
         "xaxis": "x14",
         "y": [
          0.1,
          0.2,
          0.1,
          0,
          0
         ],
         "yaxis": "y14"
        },
        {
         "customdata": [
          [
           "2011-12-18",
           "%"
          ],
          [
           "2011-12-18",
           "%"
          ],
          [
           "2011-12-21",
           "%"
          ],
          [
           "2011-12-22",
           "%"
          ],
          [
           "2011-12-24",
           "%"
          ],
          [
           "2011-12-24",
           "%"
          ],
          [
           "2011-12-25",
           "%"
          ]
         ],
         "hovertemplate": "<b>%{hovertext}</b><br><br>Nth Admisssion=3<br>LabName=CBC: ABSOLUTE LYMPHOCYTES<br>Days in Hospital=%{x}<br>LabValue=%{y}<br>LabDateTime=%{customdata[0]}<br>LabUnits=%{customdata[1]}<extra></extra>",
         "hovertext": [
          "CBC: ABSOLUTE LYMPHOCYTES",
          "CBC: ABSOLUTE LYMPHOCYTES",
          "CBC: ABSOLUTE LYMPHOCYTES",
          "CBC: ABSOLUTE LYMPHOCYTES",
          "CBC: ABSOLUTE LYMPHOCYTES",
          "CBC: ABSOLUTE LYMPHOCYTES",
          "CBC: ABSOLUTE LYMPHOCYTES"
         ],
         "legendgroup": "3",
         "line": {
          "color": "#00cc96",
          "dash": "solid"
         },
         "marker": {
          "size": 3,
          "symbol": "circle"
         },
         "mode": "markers+lines",
         "name": "3",
         "orientation": "v",
         "showlegend": false,
         "type": "scatter",
         "x": [
          0,
          0,
          3,
          4,
          6,
          6,
          7
         ],
         "xaxis": "x15",
         "y": [
          29.7,
          29.8,
          34,
          33,
          33.2,
          26.7,
          20.5
         ],
         "yaxis": "y15"
        },
        {
         "customdata": [
          [
           "2011-12-16",
           "k/cumm"
          ],
          [
           "2011-12-17",
           "k/cumm"
          ],
          [
           "2011-12-18",
           "k/cumm"
          ],
          [
           "2011-12-20",
           "k/cumm"
          ],
          [
           "2011-12-21",
           "k/cumm"
          ],
          [
           "2011-12-22",
           "k/cumm"
          ],
          [
           "2011-12-23",
           "k/cumm"
          ],
          [
           "2011-12-25",
           "k/cumm"
          ],
          [
           "2011-12-25",
           "k/cumm"
          ]
         ],
         "hovertemplate": "<b>%{hovertext}</b><br><br>Nth Admisssion=3<br>LabName=CBC: LYMPHOCYTES<br>Days in Hospital=%{x}<br>LabValue=%{y}<br>LabDateTime=%{customdata[0]}<br>LabUnits=%{customdata[1]}<extra></extra>",
         "hovertext": [
          "CBC: LYMPHOCYTES",
          "CBC: LYMPHOCYTES",
          "CBC: LYMPHOCYTES",
          "CBC: LYMPHOCYTES",
          "CBC: LYMPHOCYTES",
          "CBC: LYMPHOCYTES",
          "CBC: LYMPHOCYTES",
          "CBC: LYMPHOCYTES",
          "CBC: LYMPHOCYTES"
         ],
         "legendgroup": "3",
         "line": {
          "color": "#00cc96",
          "dash": "solid"
         },
         "marker": {
          "size": 3,
          "symbol": "circle"
         },
         "mode": "markers+lines",
         "name": "3",
         "orientation": "v",
         "showlegend": false,
         "type": "scatter",
         "x": [
          0,
          1,
          2,
          4,
          5,
          6,
          7,
          9,
          9
         ],
         "xaxis": "x6",
         "y": [
          2.7,
          1.8,
          2.7,
          3.9,
          1,
          1.3,
          1.5,
          2.8,
          1.9
         ],
         "yaxis": "y6"
        },
        {
         "customdata": [
          [
           "2011-12-16",
           "k/cumm"
          ],
          [
           "2011-12-18",
           "k/cumm"
          ],
          [
           "2011-12-18",
           "k/cumm"
          ],
          [
           "2011-12-21",
           "k/cumm"
          ],
          [
           "2011-12-21",
           "k/cumm"
          ],
          [
           "2011-12-23",
           "k/cumm"
          ],
          [
           "2011-12-25",
           "k/cumm"
          ]
         ],
         "hovertemplate": "<b>%{hovertext}</b><br><br>Nth Admisssion=3<br>LabName=CBC: MONOCYTES<br>Days in Hospital=%{x}<br>LabValue=%{y}<br>LabDateTime=%{customdata[0]}<br>LabUnits=%{customdata[1]}<extra></extra>",
         "hovertext": [
          "CBC: MONOCYTES",
          "CBC: MONOCYTES",
          "CBC: MONOCYTES",
          "CBC: MONOCYTES",
          "CBC: MONOCYTES",
          "CBC: MONOCYTES",
          "CBC: MONOCYTES"
         ],
         "legendgroup": "3",
         "line": {
          "color": "#00cc96",
          "dash": "solid"
         },
         "marker": {
          "size": 3,
          "symbol": "circle"
         },
         "mode": "markers+lines",
         "name": "3",
         "orientation": "v",
         "showlegend": false,
         "type": "scatter",
         "x": [
          0,
          2,
          2,
          5,
          5,
          7,
          9
         ],
         "xaxis": "x7",
         "y": [
          0.9,
          1.1,
          0.6,
          0.3,
          0.2,
          0.9,
          0.8
         ],
         "yaxis": "y7"
        },
        {
         "customdata": [
          [
           "2011-12-16",
           "gm/dl"
          ],
          [
           "2011-12-17",
           "gm/dl"
          ],
          [
           "2011-12-19",
           "gm/dl"
          ],
          [
           "2011-12-21",
           "gm/dl"
          ],
          [
           "2011-12-21",
           "gm/dl"
          ],
          [
           "2011-12-24",
           "gm/dl"
          ],
          [
           "2011-12-25",
           "gm/dl"
          ],
          [
           "2011-12-25",
           "gm/dl"
          ]
         ],
         "hovertemplate": "<b>%{hovertext}</b><br><br>Nth Admisssion=3<br>LabName=CBC: HEMOGLOBIN<br>Days in Hospital=%{x}<br>LabValue=%{y}<br>LabDateTime=%{customdata[0]}<br>LabUnits=%{customdata[1]}<extra></extra>",
         "hovertext": [
          "CBC: HEMOGLOBIN",
          "CBC: HEMOGLOBIN",
          "CBC: HEMOGLOBIN",
          "CBC: HEMOGLOBIN",
          "CBC: HEMOGLOBIN",
          "CBC: HEMOGLOBIN",
          "CBC: HEMOGLOBIN",
          "CBC: HEMOGLOBIN"
         ],
         "legendgroup": "3",
         "line": {
          "color": "#00cc96",
          "dash": "solid"
         },
         "marker": {
          "size": 3,
          "symbol": "circle"
         },
         "mode": "markers+lines",
         "name": "3",
         "orientation": "v",
         "showlegend": false,
         "type": "scatter",
         "x": [
          0,
          1,
          3,
          5,
          5,
          8,
          9,
          9
         ],
         "xaxis": "x8",
         "y": [
          16.1,
          18.2,
          17.9,
          12.9,
          10.8,
          14.7,
          17,
          13.9
         ],
         "yaxis": "y8"
        },
        {
         "customdata": [
          [
           "2011-12-16",
           "%"
          ],
          [
           "2011-12-18",
           "%"
          ],
          [
           "2011-12-19",
           "%"
          ],
          [
           "2011-12-19",
           "%"
          ],
          [
           "2011-12-21",
           "%"
          ],
          [
           "2011-12-21",
           "%"
          ],
          [
           "2011-12-23",
           "%"
          ],
          [
           "2011-12-24",
           "%"
          ],
          [
           "2011-12-25",
           "%"
          ]
         ],
         "hovertemplate": "<b>%{hovertext}</b><br><br>Nth Admisssion=3<br>LabName=CBC: RDW<br>Days in Hospital=%{x}<br>LabValue=%{y}<br>LabDateTime=%{customdata[0]}<br>LabUnits=%{customdata[1]}<extra></extra>",
         "hovertext": [
          "CBC: RDW",
          "CBC: RDW",
          "CBC: RDW",
          "CBC: RDW",
          "CBC: RDW",
          "CBC: RDW",
          "CBC: RDW",
          "CBC: RDW",
          "CBC: RDW"
         ],
         "legendgroup": "3",
         "line": {
          "color": "#00cc96",
          "dash": "solid"
         },
         "marker": {
          "size": 3,
          "symbol": "circle"
         },
         "mode": "markers+lines",
         "name": "3",
         "orientation": "v",
         "showlegend": false,
         "type": "scatter",
         "x": [
          0,
          2,
          3,
          3,
          5,
          5,
          7,
          8,
          9
         ],
         "xaxis": "x9",
         "y": [
          14.7,
          15.6,
          11.3,
          14,
          11.6,
          13.8,
          11.9,
          11,
          12.9
         ],
         "yaxis": "y9"
        },
        {
         "customdata": [
          [
           "2011-12-19",
           "%"
          ],
          [
           "2011-12-20",
           "%"
          ],
          [
           "2011-12-20",
           "%"
          ],
          [
           "2011-12-21",
           "%"
          ],
          [
           "2011-12-22",
           "%"
          ],
          [
           "2011-12-24",
           "%"
          ],
          [
           "2011-12-25",
           "%"
          ]
         ],
         "hovertemplate": "<b>%{hovertext}</b><br><br>Nth Admisssion=3<br>LabName=CBC: HEMATOCRIT<br>Days in Hospital=%{x}<br>LabValue=%{y}<br>LabDateTime=%{customdata[0]}<br>LabUnits=%{customdata[1]}<extra></extra>",
         "hovertext": [
          "CBC: HEMATOCRIT",
          "CBC: HEMATOCRIT",
          "CBC: HEMATOCRIT",
          "CBC: HEMATOCRIT",
          "CBC: HEMATOCRIT",
          "CBC: HEMATOCRIT",
          "CBC: HEMATOCRIT"
         ],
         "legendgroup": "3",
         "line": {
          "color": "#00cc96",
          "dash": "solid"
         },
         "marker": {
          "size": 3,
          "symbol": "circle"
         },
         "mode": "markers+lines",
         "name": "3",
         "orientation": "v",
         "showlegend": false,
         "type": "scatter",
         "x": [
          0,
          1,
          1,
          2,
          3,
          5,
          6
         ],
         "xaxis": "x10",
         "y": [
          52.8,
          54.8,
          38.1,
          43.7,
          43.8,
          31,
          44.4
         ],
         "yaxis": "y10"
        },
        {
         "customdata": [
          [
           "2011-12-16",
           "k/cumm"
          ],
          [
           "2011-12-18",
           "k/cumm"
          ],
          [
           "2011-12-18",
           "k/cumm"
          ],
          [
           "2011-12-20",
           "k/cumm"
          ],
          [
           "2011-12-21",
           "k/cumm"
          ],
          [
           "2011-12-23",
           "k/cumm"
          ],
          [
           "2011-12-24",
           "k/cumm"
          ],
          [
           "2011-12-25",
           "k/cumm"
          ]
         ],
         "hovertemplate": "<b>%{hovertext}</b><br><br>Nth Admisssion=3<br>LabName=CBC: PLATELET COUNT<br>Days in Hospital=%{x}<br>LabValue=%{y}<br>LabDateTime=%{customdata[0]}<br>LabUnits=%{customdata[1]}<extra></extra>",
         "hovertext": [
          "CBC: PLATELET COUNT",
          "CBC: PLATELET COUNT",
          "CBC: PLATELET COUNT",
          "CBC: PLATELET COUNT",
          "CBC: PLATELET COUNT",
          "CBC: PLATELET COUNT",
          "CBC: PLATELET COUNT",
          "CBC: PLATELET COUNT"
         ],
         "legendgroup": "3",
         "line": {
          "color": "#00cc96",
          "dash": "solid"
         },
         "marker": {
          "size": 3,
          "symbol": "circle"
         },
         "mode": "markers+lines",
         "name": "3",
         "orientation": "v",
         "showlegend": false,
         "type": "scatter",
         "x": [
          0,
          2,
          2,
          4,
          5,
          7,
          8,
          9
         ],
         "xaxis": "x",
         "y": [
          349.4,
          378.2,
          184.1,
          433.5,
          362.9,
          449.5,
          284.1,
          449.4
         ],
         "yaxis": "y"
        }
       ],
       "layout": {
        "annotations": [
         {
          "showarrow": false,
          "text": " platelet count",
          "x": 0.09200000000000001,
          "xanchor": "center",
          "xref": "paper",
          "y": 0.1975,
          "yanchor": "bottom",
          "yref": "paper"
         },
         {
          "showarrow": false,
          "text": " lymphocytes",
          "x": 0.09200000000000001,
          "xanchor": "center",
          "xref": "paper",
          "y": 0.465,
          "yanchor": "bottom",
          "yref": "paper"
         },
         {
          "showarrow": false,
          "text": " monocytes",
          "x": 0.29600000000000004,
          "xanchor": "center",
          "xref": "paper",
          "y": 0.465,
          "yanchor": "bottom",
          "yref": "paper"
         },
         {
          "showarrow": false,
          "text": " hemoglobin",
          "x": 0.5,
          "xanchor": "center",
          "xref": "paper",
          "y": 0.465,
          "yanchor": "bottom",
          "yref": "paper"
         },
         {
          "showarrow": false,
          "text": " rdw",
          "x": 0.7040000000000002,
          "xanchor": "center",
          "xref": "paper",
          "y": 0.465,
          "yanchor": "bottom",
          "yref": "paper"
         },
         {
          "showarrow": false,
          "text": " hematocrit",
          "x": 0.908,
          "xanchor": "center",
          "xref": "paper",
          "y": 0.465,
          "yanchor": "bottom",
          "yref": "paper"
         },
         {
          "showarrow": false,
          "text": " white blood cell count",
          "x": 0.09200000000000001,
          "xanchor": "center",
          "xref": "paper",
          "y": 0.7325,
          "yanchor": "bottom",
          "yref": "paper"
         },
         {
          "showarrow": false,
          "text": " absolute neutrophils",
          "x": 0.29600000000000004,
          "xanchor": "center",
          "xref": "paper",
          "y": 0.7325,
          "yanchor": "bottom",
          "yref": "paper"
         },
         {
          "showarrow": false,
          "text": " mean corpuscular volume",
          "x": 0.5,
          "xanchor": "center",
          "xref": "paper",
          "y": 0.7325,
          "yanchor": "bottom",
          "yref": "paper"
         },
         {
          "showarrow": false,
          "text": " basophils",
          "x": 0.7040000000000002,
          "xanchor": "center",
          "xref": "paper",
          "y": 0.7325,
          "yanchor": "bottom",
          "yref": "paper"
         },
         {
          "showarrow": false,
          "text": " absolute lymphocytes",
          "x": 0.908,
          "xanchor": "center",
          "xref": "paper",
          "y": 0.7325,
          "yanchor": "bottom",
          "yref": "paper"
         },
         {
          "showarrow": false,
          "text": " red blood cell count",
          "x": 0.09200000000000001,
          "xanchor": "center",
          "xref": "paper",
          "y": 1,
          "yanchor": "bottom",
          "yref": "paper"
         },
         {
          "showarrow": false,
          "text": " neutrophils",
          "x": 0.29600000000000004,
          "xanchor": "center",
          "xref": "paper",
          "y": 1,
          "yanchor": "bottom",
          "yref": "paper"
         },
         {
          "showarrow": false,
          "text": " mchc",
          "x": 0.5,
          "xanchor": "center",
          "xref": "paper",
          "y": 1,
          "yanchor": "bottom",
          "yref": "paper"
         },
         {
          "showarrow": false,
          "text": " eosinophils",
          "x": 0.7040000000000002,
          "xanchor": "center",
          "xref": "paper",
          "y": 1,
          "yanchor": "bottom",
          "yref": "paper"
         },
         {
          "showarrow": false,
          "text": " mch",
          "x": 0.908,
          "xanchor": "center",
          "xref": "paper",
          "y": 1,
          "yanchor": "bottom",
          "yref": "paper"
         },
         {
          "font": {
           "size": 10
          },
          "text": "lab measured values (hover for units)",
          "textangle": -90,
          "x": -0.01,
          "xref": "paper",
          "y": 0.5,
          "yref": "paper"
         }
        ],
        "font": {
         "size": 8
        },
        "hovermode": "x unified",
        "legend": {
         "title": {
          "text": "Nth Admisssion"
         },
         "tracegroupgap": 0
        },
        "template": {
         "data": {
          "bar": [
           {
            "error_x": {
             "color": "#2a3f5f"
            },
            "error_y": {
             "color": "#2a3f5f"
            },
            "marker": {
             "line": {
              "color": "#E5ECF6",
              "width": 0.5
             },
             "pattern": {
              "fillmode": "overlay",
              "size": 10,
              "solidity": 0.2
             }
            },
            "type": "bar"
           }
          ],
          "barpolar": [
           {
            "marker": {
             "line": {
              "color": "#E5ECF6",
              "width": 0.5
             },
             "pattern": {
              "fillmode": "overlay",
              "size": 10,
              "solidity": 0.2
             }
            },
            "type": "barpolar"
           }
          ],
          "carpet": [
           {
            "aaxis": {
             "endlinecolor": "#2a3f5f",
             "gridcolor": "white",
             "linecolor": "white",
             "minorgridcolor": "white",
             "startlinecolor": "#2a3f5f"
            },
            "baxis": {
             "endlinecolor": "#2a3f5f",
             "gridcolor": "white",
             "linecolor": "white",
             "minorgridcolor": "white",
             "startlinecolor": "#2a3f5f"
            },
            "type": "carpet"
           }
          ],
          "choropleth": [
           {
            "colorbar": {
             "outlinewidth": 0,
             "ticks": ""
            },
            "type": "choropleth"
           }
          ],
          "contour": [
           {
            "colorbar": {
             "outlinewidth": 0,
             "ticks": ""
            },
            "colorscale": [
             [
              0,
              "#0d0887"
             ],
             [
              0.1111111111111111,
              "#46039f"
             ],
             [
              0.2222222222222222,
              "#7201a8"
             ],
             [
              0.3333333333333333,
              "#9c179e"
             ],
             [
              0.4444444444444444,
              "#bd3786"
             ],
             [
              0.5555555555555556,
              "#d8576b"
             ],
             [
              0.6666666666666666,
              "#ed7953"
             ],
             [
              0.7777777777777778,
              "#fb9f3a"
             ],
             [
              0.8888888888888888,
              "#fdca26"
             ],
             [
              1,
              "#f0f921"
             ]
            ],
            "type": "contour"
           }
          ],
          "contourcarpet": [
           {
            "colorbar": {
             "outlinewidth": 0,
             "ticks": ""
            },
            "type": "contourcarpet"
           }
          ],
          "heatmap": [
           {
            "colorbar": {
             "outlinewidth": 0,
             "ticks": ""
            },
            "colorscale": [
             [
              0,
              "#0d0887"
             ],
             [
              0.1111111111111111,
              "#46039f"
             ],
             [
              0.2222222222222222,
              "#7201a8"
             ],
             [
              0.3333333333333333,
              "#9c179e"
             ],
             [
              0.4444444444444444,
              "#bd3786"
             ],
             [
              0.5555555555555556,
              "#d8576b"
             ],
             [
              0.6666666666666666,
              "#ed7953"
             ],
             [
              0.7777777777777778,
              "#fb9f3a"
             ],
             [
              0.8888888888888888,
              "#fdca26"
             ],
             [
              1,
              "#f0f921"
             ]
            ],
            "type": "heatmap"
           }
          ],
          "heatmapgl": [
           {
            "colorbar": {
             "outlinewidth": 0,
             "ticks": ""
            },
            "colorscale": [
             [
              0,
              "#0d0887"
             ],
             [
              0.1111111111111111,
              "#46039f"
             ],
             [
              0.2222222222222222,
              "#7201a8"
             ],
             [
              0.3333333333333333,
              "#9c179e"
             ],
             [
              0.4444444444444444,
              "#bd3786"
             ],
             [
              0.5555555555555556,
              "#d8576b"
             ],
             [
              0.6666666666666666,
              "#ed7953"
             ],
             [
              0.7777777777777778,
              "#fb9f3a"
             ],
             [
              0.8888888888888888,
              "#fdca26"
             ],
             [
              1,
              "#f0f921"
             ]
            ],
            "type": "heatmapgl"
           }
          ],
          "histogram": [
           {
            "marker": {
             "pattern": {
              "fillmode": "overlay",
              "size": 10,
              "solidity": 0.2
             }
            },
            "type": "histogram"
           }
          ],
          "histogram2d": [
           {
            "colorbar": {
             "outlinewidth": 0,
             "ticks": ""
            },
            "colorscale": [
             [
              0,
              "#0d0887"
             ],
             [
              0.1111111111111111,
              "#46039f"
             ],
             [
              0.2222222222222222,
              "#7201a8"
             ],
             [
              0.3333333333333333,
              "#9c179e"
             ],
             [
              0.4444444444444444,
              "#bd3786"
             ],
             [
              0.5555555555555556,
              "#d8576b"
             ],
             [
              0.6666666666666666,
              "#ed7953"
             ],
             [
              0.7777777777777778,
              "#fb9f3a"
             ],
             [
              0.8888888888888888,
              "#fdca26"
             ],
             [
              1,
              "#f0f921"
             ]
            ],
            "type": "histogram2d"
           }
          ],
          "histogram2dcontour": [
           {
            "colorbar": {
             "outlinewidth": 0,
             "ticks": ""
            },
            "colorscale": [
             [
              0,
              "#0d0887"
             ],
             [
              0.1111111111111111,
              "#46039f"
             ],
             [
              0.2222222222222222,
              "#7201a8"
             ],
             [
              0.3333333333333333,
              "#9c179e"
             ],
             [
              0.4444444444444444,
              "#bd3786"
             ],
             [
              0.5555555555555556,
              "#d8576b"
             ],
             [
              0.6666666666666666,
              "#ed7953"
             ],
             [
              0.7777777777777778,
              "#fb9f3a"
             ],
             [
              0.8888888888888888,
              "#fdca26"
             ],
             [
              1,
              "#f0f921"
             ]
            ],
            "type": "histogram2dcontour"
           }
          ],
          "mesh3d": [
           {
            "colorbar": {
             "outlinewidth": 0,
             "ticks": ""
            },
            "type": "mesh3d"
           }
          ],
          "parcoords": [
           {
            "line": {
             "colorbar": {
              "outlinewidth": 0,
              "ticks": ""
             }
            },
            "type": "parcoords"
           }
          ],
          "pie": [
           {
            "automargin": true,
            "type": "pie"
           }
          ],
          "scatter": [
           {
            "marker": {
             "colorbar": {
              "outlinewidth": 0,
              "ticks": ""
             }
            },
            "type": "scatter"
           }
          ],
          "scatter3d": [
           {
            "line": {
             "colorbar": {
              "outlinewidth": 0,
              "ticks": ""
             }
            },
            "marker": {
             "colorbar": {
              "outlinewidth": 0,
              "ticks": ""
             }
            },
            "type": "scatter3d"
           }
          ],
          "scattercarpet": [
           {
            "marker": {
             "colorbar": {
              "outlinewidth": 0,
              "ticks": ""
             }
            },
            "type": "scattercarpet"
           }
          ],
          "scattergeo": [
           {
            "marker": {
             "colorbar": {
              "outlinewidth": 0,
              "ticks": ""
             }
            },
            "type": "scattergeo"
           }
          ],
          "scattergl": [
           {
            "marker": {
             "colorbar": {
              "outlinewidth": 0,
              "ticks": ""
             }
            },
            "type": "scattergl"
           }
          ],
          "scattermapbox": [
           {
            "marker": {
             "colorbar": {
              "outlinewidth": 0,
              "ticks": ""
             }
            },
            "type": "scattermapbox"
           }
          ],
          "scatterpolar": [
           {
            "marker": {
             "colorbar": {
              "outlinewidth": 0,
              "ticks": ""
             }
            },
            "type": "scatterpolar"
           }
          ],
          "scatterpolargl": [
           {
            "marker": {
             "colorbar": {
              "outlinewidth": 0,
              "ticks": ""
             }
            },
            "type": "scatterpolargl"
           }
          ],
          "scatterternary": [
           {
            "marker": {
             "colorbar": {
              "outlinewidth": 0,
              "ticks": ""
             }
            },
            "type": "scatterternary"
           }
          ],
          "surface": [
           {
            "colorbar": {
             "outlinewidth": 0,
             "ticks": ""
            },
            "colorscale": [
             [
              0,
              "#0d0887"
             ],
             [
              0.1111111111111111,
              "#46039f"
             ],
             [
              0.2222222222222222,
              "#7201a8"
             ],
             [
              0.3333333333333333,
              "#9c179e"
             ],
             [
              0.4444444444444444,
              "#bd3786"
             ],
             [
              0.5555555555555556,
              "#d8576b"
             ],
             [
              0.6666666666666666,
              "#ed7953"
             ],
             [
              0.7777777777777778,
              "#fb9f3a"
             ],
             [
              0.8888888888888888,
              "#fdca26"
             ],
             [
              1,
              "#f0f921"
             ]
            ],
            "type": "surface"
           }
          ],
          "table": [
           {
            "cells": {
             "fill": {
              "color": "#EBF0F8"
             },
             "line": {
              "color": "white"
             }
            },
            "header": {
             "fill": {
              "color": "#C8D4E3"
             },
             "line": {
              "color": "white"
             }
            },
            "type": "table"
           }
          ]
         },
         "layout": {
          "annotationdefaults": {
           "arrowcolor": "#2a3f5f",
           "arrowhead": 0,
           "arrowwidth": 1
          },
          "autotypenumbers": "strict",
          "coloraxis": {
           "colorbar": {
            "outlinewidth": 0,
            "ticks": ""
           }
          },
          "colorscale": {
           "diverging": [
            [
             0,
             "#8e0152"
            ],
            [
             0.1,
             "#c51b7d"
            ],
            [
             0.2,
             "#de77ae"
            ],
            [
             0.3,
             "#f1b6da"
            ],
            [
             0.4,
             "#fde0ef"
            ],
            [
             0.5,
             "#f7f7f7"
            ],
            [
             0.6,
             "#e6f5d0"
            ],
            [
             0.7,
             "#b8e186"
            ],
            [
             0.8,
             "#7fbc41"
            ],
            [
             0.9,
             "#4d9221"
            ],
            [
             1,
             "#276419"
            ]
           ],
           "sequential": [
            [
             0,
             "#0d0887"
            ],
            [
             0.1111111111111111,
             "#46039f"
            ],
            [
             0.2222222222222222,
             "#7201a8"
            ],
            [
             0.3333333333333333,
             "#9c179e"
            ],
            [
             0.4444444444444444,
             "#bd3786"
            ],
            [
             0.5555555555555556,
             "#d8576b"
            ],
            [
             0.6666666666666666,
             "#ed7953"
            ],
            [
             0.7777777777777778,
             "#fb9f3a"
            ],
            [
             0.8888888888888888,
             "#fdca26"
            ],
            [
             1,
             "#f0f921"
            ]
           ],
           "sequentialminus": [
            [
             0,
             "#0d0887"
            ],
            [
             0.1111111111111111,
             "#46039f"
            ],
            [
             0.2222222222222222,
             "#7201a8"
            ],
            [
             0.3333333333333333,
             "#9c179e"
            ],
            [
             0.4444444444444444,
             "#bd3786"
            ],
            [
             0.5555555555555556,
             "#d8576b"
            ],
            [
             0.6666666666666666,
             "#ed7953"
            ],
            [
             0.7777777777777778,
             "#fb9f3a"
            ],
            [
             0.8888888888888888,
             "#fdca26"
            ],
            [
             1,
             "#f0f921"
            ]
           ]
          },
          "colorway": [
           "#636efa",
           "#EF553B",
           "#00cc96",
           "#ab63fa",
           "#FFA15A",
           "#19d3f3",
           "#FF6692",
           "#B6E880",
           "#FF97FF",
           "#FECB52"
          ],
          "font": {
           "color": "#2a3f5f"
          },
          "geo": {
           "bgcolor": "white",
           "lakecolor": "white",
           "landcolor": "#E5ECF6",
           "showlakes": true,
           "showland": true,
           "subunitcolor": "white"
          },
          "hoverlabel": {
           "align": "left"
          },
          "hovermode": "closest",
          "mapbox": {
           "style": "light"
          },
          "paper_bgcolor": "white",
          "plot_bgcolor": "#E5ECF6",
          "polar": {
           "angularaxis": {
            "gridcolor": "white",
            "linecolor": "white",
            "ticks": ""
           },
           "bgcolor": "#E5ECF6",
           "radialaxis": {
            "gridcolor": "white",
            "linecolor": "white",
            "ticks": ""
           }
          },
          "scene": {
           "xaxis": {
            "backgroundcolor": "#E5ECF6",
            "gridcolor": "white",
            "gridwidth": 2,
            "linecolor": "white",
            "showbackground": true,
            "ticks": "",
            "zerolinecolor": "white"
           },
           "yaxis": {
            "backgroundcolor": "#E5ECF6",
            "gridcolor": "white",
            "gridwidth": 2,
            "linecolor": "white",
            "showbackground": true,
            "ticks": "",
            "zerolinecolor": "white"
           },
           "zaxis": {
            "backgroundcolor": "#E5ECF6",
            "gridcolor": "white",
            "gridwidth": 2,
            "linecolor": "white",
            "showbackground": true,
            "ticks": "",
            "zerolinecolor": "white"
           }
          },
          "shapedefaults": {
           "line": {
            "color": "#2a3f5f"
           }
          },
          "ternary": {
           "aaxis": {
            "gridcolor": "white",
            "linecolor": "white",
            "ticks": ""
           },
           "baxis": {
            "gridcolor": "white",
            "linecolor": "white",
            "ticks": ""
           },
           "bgcolor": "#E5ECF6",
           "caxis": {
            "gridcolor": "white",
            "linecolor": "white",
            "ticks": ""
           }
          },
          "title": {
           "x": 0.05
          },
          "xaxis": {
           "automargin": true,
           "gridcolor": "white",
           "linecolor": "white",
           "ticks": "",
           "title": {
            "standoff": 15
           },
           "zerolinecolor": "white",
           "zerolinewidth": 2
          },
          "yaxis": {
           "automargin": true,
           "gridcolor": "white",
           "linecolor": "white",
           "ticks": "",
           "title": {
            "standoff": 15
           },
           "zerolinecolor": "white",
           "zerolinewidth": 2
          }
         }
        },
        "title": {
         "text": "CBC Data"
        },
        "xaxis": {
         "anchor": "y",
         "domain": [
          0,
          0.18400000000000002
         ],
         "title": {
          "text": "Days in Hospital"
         }
        },
        "xaxis10": {
         "anchor": "y10",
         "domain": [
          0.8160000000000001,
          1
         ],
         "matches": "x",
         "showticklabels": false
        },
        "xaxis11": {
         "anchor": "y11",
         "domain": [
          0,
          0.18400000000000002
         ],
         "matches": "x",
         "showticklabels": false
        },
        "xaxis12": {
         "anchor": "y12",
         "domain": [
          0.20400000000000001,
          0.388
         ],
         "matches": "x",
         "showticklabels": false
        },
        "xaxis13": {
         "anchor": "y13",
         "domain": [
          0.40800000000000003,
          0.5920000000000001
         ],
         "matches": "x",
         "showticklabels": false
        },
        "xaxis14": {
         "anchor": "y14",
         "domain": [
          0.6120000000000001,
          0.7960000000000002
         ],
         "matches": "x",
         "showticklabels": false
        },
        "xaxis15": {
         "anchor": "y15",
         "domain": [
          0.8160000000000001,
          1
         ],
         "matches": "x",
         "showticklabels": false
        },
        "xaxis16": {
         "anchor": "y16",
         "domain": [
          0,
          0.18400000000000002
         ],
         "matches": "x",
         "showticklabels": false
        },
        "xaxis17": {
         "anchor": "y17",
         "domain": [
          0.20400000000000001,
          0.388
         ],
         "matches": "x",
         "showticklabels": false
        },
        "xaxis18": {
         "anchor": "y18",
         "domain": [
          0.40800000000000003,
          0.5920000000000001
         ],
         "matches": "x",
         "showticklabels": false
        },
        "xaxis19": {
         "anchor": "y19",
         "domain": [
          0.6120000000000001,
          0.7960000000000002
         ],
         "matches": "x",
         "showticklabels": false
        },
        "xaxis2": {
         "anchor": "y2",
         "domain": [
          0.20400000000000001,
          0.388
         ],
         "matches": "x",
         "title": {
          "text": "Days in Hospital"
         }
        },
        "xaxis20": {
         "anchor": "y20",
         "domain": [
          0.8160000000000001,
          1
         ],
         "matches": "x",
         "showticklabels": false
        },
        "xaxis3": {
         "anchor": "y3",
         "domain": [
          0.40800000000000003,
          0.5920000000000001
         ],
         "matches": "x",
         "title": {
          "text": "Days in Hospital"
         }
        },
        "xaxis4": {
         "anchor": "y4",
         "domain": [
          0.6120000000000001,
          0.7960000000000002
         ],
         "matches": "x",
         "title": {
          "text": "Days in Hospital"
         }
        },
        "xaxis5": {
         "anchor": "y5",
         "domain": [
          0.8160000000000001,
          1
         ],
         "matches": "x",
         "title": {
          "text": "Days in Hospital"
         }
        },
        "xaxis6": {
         "anchor": "y6",
         "domain": [
          0,
          0.18400000000000002
         ],
         "matches": "x",
         "showticklabels": false
        },
        "xaxis7": {
         "anchor": "y7",
         "domain": [
          0.20400000000000001,
          0.388
         ],
         "matches": "x",
         "showticklabels": false
        },
        "xaxis8": {
         "anchor": "y8",
         "domain": [
          0.40800000000000003,
          0.5920000000000001
         ],
         "matches": "x",
         "showticklabels": false
        },
        "xaxis9": {
         "anchor": "y9",
         "domain": [
          0.6120000000000001,
          0.7960000000000002
         ],
         "matches": "x",
         "showticklabels": false
        },
        "yaxis": {
         "anchor": "x",
         "domain": [
          0,
          0.1975
         ],
         "showticklabels": true,
         "title": {}
        },
        "yaxis10": {
         "anchor": "x10",
         "domain": [
          0.2675,
          0.465
         ],
         "showticklabels": true,
         "title": {}
        },
        "yaxis11": {
         "anchor": "x11",
         "domain": [
          0.535,
          0.7325
         ],
         "showticklabels": true,
         "title": {}
        },
        "yaxis12": {
         "anchor": "x12",
         "domain": [
          0.535,
          0.7325
         ],
         "showticklabels": true,
         "title": {}
        },
        "yaxis13": {
         "anchor": "x13",
         "domain": [
          0.535,
          0.7325
         ],
         "showticklabels": true,
         "title": {}
        },
        "yaxis14": {
         "anchor": "x14",
         "domain": [
          0.535,
          0.7325
         ],
         "showticklabels": true,
         "title": {}
        },
        "yaxis15": {
         "anchor": "x15",
         "domain": [
          0.535,
          0.7325
         ],
         "showticklabels": true,
         "title": {}
        },
        "yaxis16": {
         "anchor": "x16",
         "domain": [
          0.8025,
          1
         ],
         "showticklabels": true,
         "title": {}
        },
        "yaxis17": {
         "anchor": "x17",
         "domain": [
          0.8025,
          1
         ],
         "showticklabels": true,
         "title": {}
        },
        "yaxis18": {
         "anchor": "x18",
         "domain": [
          0.8025,
          1
         ],
         "showticklabels": true,
         "title": {}
        },
        "yaxis19": {
         "anchor": "x19",
         "domain": [
          0.8025,
          1
         ],
         "showticklabels": true,
         "title": {}
        },
        "yaxis2": {
         "anchor": "x2",
         "domain": [
          0,
          0.1975
         ],
         "showticklabels": true,
         "title": {}
        },
        "yaxis20": {
         "anchor": "x20",
         "domain": [
          0.8025,
          1
         ],
         "showticklabels": true,
         "title": {}
        },
        "yaxis3": {
         "anchor": "x3",
         "domain": [
          0,
          0.1975
         ],
         "showticklabels": true,
         "title": {}
        },
        "yaxis4": {
         "anchor": "x4",
         "domain": [
          0,
          0.1975
         ],
         "showticklabels": true,
         "title": {}
        },
        "yaxis5": {
         "anchor": "x5",
         "domain": [
          0,
          0.1975
         ],
         "showticklabels": true,
         "title": {}
        },
        "yaxis6": {
         "anchor": "x6",
         "domain": [
          0.2675,
          0.465
         ],
         "showticklabels": true,
         "title": {}
        },
        "yaxis7": {
         "anchor": "x7",
         "domain": [
          0.2675,
          0.465
         ],
         "showticklabels": true,
         "title": {}
        },
        "yaxis8": {
         "anchor": "x8",
         "domain": [
          0.2675,
          0.465
         ],
         "showticklabels": true,
         "title": {}
        },
        "yaxis9": {
         "anchor": "x9",
         "domain": [
          0.2675,
          0.465
         ],
         "showticklabels": true,
         "title": {}
        }
       }
      }
     },
     "metadata": {},
     "output_type": "display_data"
    }
   ],
   "source": [
    "patient1['plots']['CBC']"
   ]
  },
  {
   "cell_type": "markdown",
   "metadata": {},
   "source": [
    "#### 4. Quicksearch"
   ]
  },
  {
   "cell_type": "code",
   "execution_count": 15,
   "metadata": {},
   "outputs": [
    {
     "name": "stdout",
     "output_type": "stream",
     "text": [
      "Dash is running on http://127.0.0.1:8050/\n",
      "\n",
      "Dash is running on http://127.0.0.1:8050/\n",
      "\n",
      "INFO:Quick Search:Dash is running on http://127.0.0.1:8050/\n",
      "\n",
      " * Serving Flask app 'Quick Search' (lazy loading)\n",
      " * Environment: production\n",
      "\u001b[31m   WARNING: This is a development server. Do not use it in a production deployment.\u001b[0m\n",
      "\u001b[2m   Use a production WSGI server instead.\u001b[0m\n",
      " * Debug mode: off\n"
     ]
    }
   ],
   "source": [
    "_ = emr.plot.QuickSearch(dfs)()"
   ]
  }
 ],
 "metadata": {
  "interpreter": {
   "hash": "ef7755c3279c074fca492decc9999744537ec1262de5cd4a8c623d7b4314558f"
  },
  "kernelspec": {
   "display_name": "Python 3.8.12 64-bit ('emr_data_analysis': conda)",
   "language": "python",
   "name": "python3"
  },
  "language_info": {
   "codemirror_mode": {
    "name": "ipython",
    "version": 3
   },
   "file_extension": ".py",
   "mimetype": "text/x-python",
   "name": "python",
   "nbconvert_exporter": "python",
   "pygments_lexer": "ipython3",
   "version": "3.8.12"
  },
  "orig_nbformat": 4
 },
 "nbformat": 4,
 "nbformat_minor": 2
}
